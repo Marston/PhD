{
 "cells": [
  {
   "cell_type": "markdown",
   "metadata": {},
   "source": [
    "# How to calculate and plot wind speed using MERRA-2 wind component data using Python\n",
    "\n",
    "***\n",
    "\n",
    "## Overview:\n",
    "\n",
    "This tutorial demonstrates how to calculate and plot hourly wind speed using the northward and eastward wind component variables with MERRA-2 data using Python 3.7.\n",
    "\n",
    "## Example:\n",
    "\n",
    "Example data set: https://disc.gsfc.nasa.gov/datasets/M2T1NXSLV_V5.12.4/summary\n",
    "\n",
    "Example data: https://goldsmr4.gesdisc.eosdis.nasa.gov/data/MERRA2/M2T1NXSLV.5.12.4/2010/06/MERRA2_300.tavg1_2d_slv_Nx.20100601.nc4\n"
   ]
  },
  {
   "cell_type": "markdown",
   "metadata": {},
   "source": [
    "<img src =\"https://disc.gsfc.nasa.gov/media/image/4460b42cb7c841fa9bbd74c5c26cad67/MERRA2_2m_ws.png\" title=\"Image1\" width=600 height=400 />\n",
    "\n",
    "**Figure 1.** MERRA-2 windspeed calculated from 2-meter northward and eastward wind component variables. \n",
    "\n",
    "***"
   ]
  },
  {
   "cell_type": "markdown",
   "metadata": {},
   "source": [
    "<img src =\"https://disc.gsfc.nasa.gov/media/image/acd5ca3e8eb14f84aa58e9f584b99e2f/MERRA2_2m_wsVECTORS.png\" title=\"Image2\" width=600 />\n",
    "\n",
    "**Figure 2.** MERRA-2 windspeed and direction calculated from 2-meter northward and eastward wind component variables."
   ]
  },
  {
   "cell_type": "markdown",
   "metadata": {},
   "source": [
    "## Prerequisites:\n",
    "\n",
    "Python and the packages:  [numpy](http://www.numpy.org/), [netCDF4](http://unidata.github.io/netcdf4-python/), [matplotlib](http://matplotlib.org/), and [cartopy](https://scitools.org.uk/cartopy/docs/latest/). Matplotlib and cartopy are only needed for plotting. This script was tested using Python 3.7.\n",
    "\n",
    "## Procedure:\n",
    "\n",
    "Wind speeds can be calculated using MERRA-2 eastward and northward wind components. Before we calculate wind speed we will define the wind components, also referred to as vectors.\n",
    "\n",
    "Eastward and northward wind vectors are represented by the variables “u” and “v” respectively. MERRA-2 u wind is parallel to the x-axis (i.e. longitude). A positive u wind comes from the west, and a negative u wind comes from the east. MERRA-2 v wind is parallel to the y-axis (i.e. latitude). A positive v wind comes from the south, and a negative v wind comes from the north. These variable long names typically contain \"eastward wind\" or \"northward wind\" at a given pressure or height. Example long name: 2-meter eastward wind.\n",
    "\n",
    "Given the u and v wind components, we can calculate the wind speed using the Pythagorean Theorem:\n",
    "\n",
    "_Wind Speed_ = $ \\sqrt{u^2+v^2} $"
   ]
  },
  {
   "cell_type": "markdown",
   "metadata": {},
   "source": [
    "<img src =\"https://disc.gsfc.nasa.gov/api/images/windspeed_diagram/file\" title=\"Image3\" width=\"500\"/>"
   ]
  },
  {
   "cell_type": "markdown",
   "metadata": {},
   "source": [
    "To find the direction of wind speed, use arctan(v/u) when u is not equal to zero. You also must adjust for what quadrant you are in based on the sign of u and v. Most scripting languages (Python, matlab, IDL, etc.) have an arctan2 function that will take care of these issues for you. Be careful to note whether you are working in radians or degrees when determining your direction.\n",
    "\n",
    "**NOTE:** It is important to use the arctan2 (two-argument arctangent) function rather than the arctan (inverse tangent) function.  The arctan2 function returns the angle for the component vectors u and v on a Cartesian plane.  The arctan function returns the angle for the ratio of the component vectors (i.e. v/u) on a Cartesian plane and will have non-unique values depending upon which quadrant in which the resultant vector lies.\n",
    "\n",
    "Most scripting languages also have packages that can compute the wind magnitudes for you. We use the \"quiver\" plot function that is part of the matplotlib library. The code below is a Python script that will compute and plot wind speed and direction from MERRA-2 wind vector components. We also compute the daily averaged wind speed as the variable \"<font color=red>ws_daily_avg</font>\".\n",
    "\n",
    " \n",
    "\n",
    "**NOTE**: To compute, daily, weekly, and especially monthly averaged wind speed values, the user should use hourly north and east wind component variables to compute the hourly wind speed averages. Then use those hourly wind speed averages to compute the average daily, weekly or monthly wind speed."
   ]
  },
  {
   "cell_type": "markdown",
   "metadata": {},
   "source": [
    "### PLOT MERRA-2 WIND SPEED \n",
    "The first step is to import the required Python libraries. The netCDF4 Dataset and numpy imports allow you to read in the file and perform calculations. The matplotlib and cartopy libraries allow you to plot the data. If any of the following import commands fail, check the local Python environment and install any missing packages."
   ]
  },
  {
   "cell_type": "code",
   "execution_count": null,
   "metadata": {},
   "outputs": [],
   "source": [
    "from netCDF4 import Dataset\n",
    "import numpy as np\n",
    "import matplotlib.pyplot as plt\n",
    "import cartopy.crs as ccrs\n",
    "from cartopy.mpl.gridliner import LONGITUDE_FORMATTER, LATITUDE_FORMATTER\n",
    "import matplotlib.ticker as mticker"
   ]
  },
  {
   "cell_type": "markdown",
   "metadata": {},
   "source": [
    "Open the NetCDF4 file (add a directory path if necessary) for reading:"
   ]
  },
  {
   "cell_type": "code",
   "execution_count": null,
   "metadata": {},
   "outputs": [],
   "source": [
    "data = Dataset('MERRA2_300.tavg1_2d_slv_Nx.20100601.nc4', mode='r')"
   ]
  },
  {
   "cell_type": "markdown",
   "metadata": {},
   "source": [
    "Run the following cell to see the MERRA-2 metadata. This line will print attribute and variable information. From the 'variables(dimensions)' list, choose which variable(s) to read in below:"
   ]
  },
  {
   "cell_type": "code",
   "execution_count": null,
   "metadata": {},
   "outputs": [],
   "source": [
    "print(data)"
   ]
  },
  {
   "cell_type": "markdown",
   "metadata": {},
   "source": [
    "Read in variables:"
   ]
  },
  {
   "cell_type": "code",
   "execution_count": null,
   "metadata": {},
   "outputs": [],
   "source": [
    "# longitude and latitude\n",
    "lons = data.variables['lon']\n",
    "lats = data.variables['lat']\n",
    "lon, lat = np.meshgrid(lons, lats)\n",
    "# 2-meter eastward wind m/s\n",
    "U2M = data.variables['U2M']\n",
    "# 2-meter northward wind m/s\n",
    "V2M = data.variables['V2M']"
   ]
  },
  {
   "cell_type": "markdown",
   "metadata": {},
   "source": [
    "Replace \\_FillValues with NaNs:"
   ]
  },
  {
   "cell_type": "code",
   "execution_count": null,
   "metadata": {},
   "outputs": [],
   "source": [
    "U2M_nans = U2M[:]\n",
    "V2M_nans = V2M[:]\n",
    "_FillValueU2M = U2M._FillValue\n",
    "_FillValueV2M = V2M._FillValue\n",
    "U2M_nans[U2M_nans == _FillValueU2M] = np.nan\n",
    "V2M_nans[V2M_nans == _FillValueV2M] = np.nan"
   ]
  },
  {
   "cell_type": "markdown",
   "metadata": {},
   "source": [
    "Calculate wind speed:"
   ]
  },
  {
   "cell_type": "code",
   "execution_count": null,
   "metadata": {},
   "outputs": [],
   "source": [
    "ws = np.sqrt(U2M_nans**2+V2M_nans**2)"
   ]
  },
  {
   "cell_type": "markdown",
   "metadata": {},
   "source": [
    "Calculate wind direction in radians:"
   ]
  },
  {
   "cell_type": "code",
   "execution_count": null,
   "metadata": {},
   "outputs": [],
   "source": [
    "ws_direction = np.arctan2(V2M_nans,U2M_nans)"
   ]
  },
  {
   "cell_type": "markdown",
   "metadata": {},
   "source": [
    "**NOTE:** The MERRA-2 file contains hourly data for 24 hours (t=24). To get the daily mean values, take the average along the time dimension. Calculate daily average wind speed and daily average wind direction (in radians):"
   ]
  },
  {
   "cell_type": "code",
   "execution_count": null,
   "metadata": {},
   "outputs": [],
   "source": [
    "ws_daily_avg = np.nanmean(ws, axis=0)"
   ]
  },
  {
   "cell_type": "markdown",
   "metadata": {},
   "source": [
    "**NOTE:** To calculate the daily average wind direction correctly, it is important to use the 'vector average' as atan2(&lt;v&gt;,&lt;u&gt;), where &lt;v&gt; and &lt;u&gt; are the daily averages of the component vectors. Do not average the individual wind direction angles. This avoids a situation where averaging wind direction values 1 and 359 would give 180 instead of the desired 0. "
   ]
  },
  {
   "cell_type": "code",
   "execution_count": null,
   "metadata": {},
   "outputs": [],
   "source": [
    "U2M_daily_avg = np.nanmean(U2M_nans, axis=0)\n",
    "V2M_daily_avg = np.nanmean(V2M_nans, axis=0)\n",
    "ws_daily_avg_direction = np.arctan2(V2M_daily_avg, U2M_daily_avg)"
   ]
  },
  {
   "cell_type": "markdown",
   "metadata": {},
   "source": [
    "#### Plot global MERRA-2 wind speed "
   ]
  },
  {
   "cell_type": "code",
   "execution_count": null,
   "metadata": {
    "scrolled": true
   },
   "outputs": [],
   "source": [
    "# Set the figure size, projection, and extent\n",
    "fig = plt.figure(figsize=(8,4))\n",
    "ax = plt.axes(projection=ccrs.Robinson())\n",
    "ax.set_global()\n",
    "ax.coastlines(resolution=\"110m\",linewidth=1)\n",
    "ax.gridlines(linestyle='--',color='black')\n",
    "\n",
    "# Plot windspeed:\n",
    "# Set contour levels, then draw the plot and a colorbar\n",
    "clevs = np.arange(0,19,1)\n",
    "plt.contourf(lon, lat, ws_daily_avg, clevs, transform=ccrs.PlateCarree(),cmap=plt.cm.jet)\n",
    "plt.title('MERRA-2 Daily Average 2-meter Wind Speed, 1 June 2010', size=14)\n",
    "cb = plt.colorbar(ax=ax, orientation=\"vertical\", pad=0.02, aspect=16, shrink=0.8)\n",
    "cb.set_label('m/s',size=12,rotation=0,labelpad=15)\n",
    "cb.ax.tick_params(labelsize=10)"
   ]
  },
  {
   "cell_type": "markdown",
   "metadata": {},
   "source": [
    "Save the figure as a PNG:"
   ]
  },
  {
   "cell_type": "code",
   "execution_count": null,
   "metadata": {},
   "outputs": [],
   "source": [
    "fig.savefig('MERRA2_2m_ws.png', format='png', dpi=120)"
   ]
  },
  {
   "cell_type": "markdown",
   "metadata": {},
   "source": [
    "#### Plot wind speed with direction \n",
    "The filled contours show the wind speed. The \"quiver\" function is used to overlay arrows to show the wind direction. The length of the arrows is determined by the wind speed. "
   ]
  },
  {
   "cell_type": "code",
   "execution_count": null,
   "metadata": {
    "scrolled": true
   },
   "outputs": [],
   "source": [
    "# Set the figure size, projection, and extent\n",
    "fig = plt.figure(figsize=(9,5))\n",
    "ax = plt.axes(projection=ccrs.PlateCarree())\n",
    "ax.set_extent([-62,-38,35,54])  \n",
    "ax.coastlines(resolution=\"50m\",linewidth=1)\n",
    "\n",
    "gl = ax.gridlines(crs=ccrs.PlateCarree(), draw_labels=True,\n",
    "                  linewidth=1, color='black', linestyle='--')\n",
    "gl.xlabels_top = False\n",
    "gl.ylabels_right = False\n",
    "gl.xlines = True\n",
    "gl.xlocator = mticker.FixedLocator([-65,-60,-50,-40,-30])\n",
    "gl.ylocator = mticker.FixedLocator([30,40,50,60])\n",
    "gl.xformatter = LONGITUDE_FORMATTER\n",
    "gl.yformatter = LATITUDE_FORMATTER\n",
    "gl.xlabel_style = {'size':10, 'color':'black'}\n",
    "gl.ylabel_style = {'size':10, 'color':'black'}\n",
    "\n",
    "# Plot windspeed\n",
    "clevs = np.arange(0,14.5,1)\n",
    "plt.contourf(lon, lat, ws[0,:,:], clevs, transform=ccrs.PlateCarree(),cmap=plt.cm.jet)\n",
    "plt.title('MERRA-2 2m Wind Speed and Direction, 00Z 1 June 2010', size=16)\n",
    "cb = plt.colorbar(ax=ax, orientation=\"vertical\", pad=0.02, aspect=16, shrink=0.8)\n",
    "cb.set_label('m/s',size=14,rotation=0,labelpad=15)\n",
    "cb.ax.tick_params(labelsize=10)\n",
    "# Overlay wind vectors\n",
    "qv = plt.quiver(lon, lat, U2M_nans[0,:,:], V2M_nans[0,:,:], scale=420, color='k')"
   ]
  },
  {
   "cell_type": "markdown",
   "metadata": {},
   "source": [
    "Save the figure as a PNG:"
   ]
  },
  {
   "cell_type": "code",
   "execution_count": null,
   "metadata": {},
   "outputs": [],
   "source": [
    "fig.savefig('MERRA2_2m_wsVECTORS.png', format='png', dpi=120)"
   ]
  },
  {
   "cell_type": "markdown",
   "metadata": {},
   "source": [
    "<font size=\"1\">THE SUBJECT FILE IS PROVIDED \"AS IS\" WITHOUT ANY WARRANTY OF ANY KIND, EITHER EXPRESSED, IMPLIED, OR STATUTORY, INCLUDING, BUT NOT LIMITED TO, ANY WARRANTY THAT THE SUBJECT FILE WILL CONFORM TO SPECIFICATIONS, ANY IMPLIED WARRANTIES OF MERCHANTABILITY, FITNESS FOR A PARTICULAR PURPOSE, OR FREEDOM FROM INFRINGEMENT, ANY WARRANTY THAT THE SUBJECT FILE WILL BE ERROR FREE, OR ANY WARRANTY THAT DOCUMENTATION, IF PROVIDED, WILL CONFORM TO THE SUBJECT FILE. THIS AGREEMENT DOES NOT, IN ANY MANNER, CONSTITUTE AN ENDORSEMENT BY GOVERNMENT AGENCY OR ANY PRIOR RECIPIENT OF ANY RESULTS, RESULTING DESIGNS, HARDWARE, SOFTWARE PRODUCTS OR ANY OTHER APPLICATIONS RESULTING FROM USE OF THE SUBJECT FILE. FURTHER, GOVERNMENT AGENCY DISCLAIMS ALL WARRANTIES AND LIABILITIES REGARDING THIRD-PARTY SOFTWARE, IF PRESENT IN THE SUBJECT FILE, AND DISTRIBUTES IT \"AS IS.\""
   ]
  }
 ],
 "metadata": {
  "kernelspec": {
   "display_name": "Python 3",
   "language": "python",
   "name": "python3"
  },
  "language_info": {
   "codemirror_mode": {
    "name": "ipython",
    "version": 3
   },
   "file_extension": ".py",
   "mimetype": "text/x-python",
   "name": "python",
   "nbconvert_exporter": "python",
   "pygments_lexer": "ipython3",
   "version": "3.8.3"
  }
 },
 "nbformat": 4,
 "nbformat_minor": 2
}
