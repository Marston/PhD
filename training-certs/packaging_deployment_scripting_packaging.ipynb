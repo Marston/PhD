{
 "cells": [
  {
   "cell_type": "markdown",
   "metadata": {},
   "source": [
    "<font color=\"white\">.</font> | <font color=\"white\">.</font> | <font color=\"white\">.</font>\n",
    "-- | -- | --\n",
    "![NASA](http://www.nasa.gov/sites/all/themes/custom/nasatwo/images/nasa-logo.svg) | <h1><font size=\"+3\">ASTG Python Courses</font></h1> | ![NASA](https://www.nccs.nasa.gov/sites/default/files/NCCS_Logo_0.png)\n",
    "\n",
    "---\n",
    "\n",
    "<CENTER>\n",
    "<H1 style=\"color:red\">\n",
    "Python Scripting and Packaging\n",
    "</H1>\n",
    "</CENTER>"
   ]
  },
  {
   "cell_type": "markdown",
   "metadata": {},
   "source": [
    "# <font color=\"red\"> Useful References </font>\n",
    "* <A HREF=\"https://realpython.com/python-modules-packages/\"> Python Modules and Packages – An Introduction </A>\n",
    "* <A HREF=\"https://python-packaging.readthedocs.io/en/latest/minimal.html\"> How To Package Your Python Code</A>\n",
    "* <A HREF=\"https://packaging.python.org/tutorials/packaging-projects/\"> Packaging Python Projects </A>"
   ]
  },
  {
   "cell_type": "markdown",
   "metadata": {},
   "source": [
    "# <font color=\"red\"> Objectives </font>\n",
    "\n",
    "- We want to write a Python application that converts temperatures (a list of values) from one unit to another.\n",
    "- It should be written in such a way that that it can be resuable, maintainable and expandable.\n",
    "\n"
   ]
  },
  {
   "cell_type": "markdown",
   "metadata": {},
   "source": [
    "The application should be able to perform the conversions:\n",
    "    \n",
    "- **Kelvin to Celsius**: C = K - 273.5\n",
    "- **Kelvin to Fahrenheit**: F = 9/5(K - 273.5) + 32 \n",
    "- **Celsius to Fahrenheit**: F = 9/5(C) + 32 \n",
    "- **Celsius to Kelvin**: K = C + 273.5\n",
    "- **Fahrenheit to Celsius**: C = (F - 32)/1.80\n",
    "- **Fahrenheit to Kelvin**: K = 5/9(F - 32) + 273.5"
   ]
  },
  {
   "cell_type": "markdown",
   "metadata": {},
   "source": [
    "# <font color=\"red\"> Recall: What is a Module? </font>\n",
    "\n",
    "- A __module__ is a Python file with the extension `.py`.\n",
    "\n",
    "- The name of the __module__ will be the name of the file.\n",
    "- A __module__ can have a set of functions, classes or variables defined and implemented. \n",
    "\n",
    "- We use the __import__ statement to gain access to all attributes and functions present in the __module_name__.\n",
    "\n",
    "- Access to functions and attributes is accomplished using the __module_name.method__ syntax."
   ]
  },
  {
   "cell_type": "markdown",
   "metadata": {
    "slideshow": {
     "slide_type": "slide"
    }
   },
   "source": [
    "We use __modules__:\n",
    "  \n",
    "+ To break down large programs into small manageable and organized files.\n",
    "+ To provide code reusability. We can define our most used functions or parameters in a module and import it, instead of copying their definitions into different programs."
   ]
  },
  {
   "cell_type": "code",
   "execution_count": null,
   "metadata": {},
   "outputs": [],
   "source": [
    "%%writefile temp.py\n",
    "\n",
    "zeroCelcius = 273.5  # zero degree Celcius in Kelvin\n",
    "\n",
    "def convert_celcius_to_kelvin(temperatureC):\n",
    "    return temperatureC + zeroCelcius\n",
    "\n",
    "def convert_kelvin_to_celcius(temperatureK):\n",
    "    return temperatureK - zeroCelcius    "
   ]
  },
  {
   "cell_type": "code",
   "execution_count": null,
   "metadata": {},
   "outputs": [],
   "source": [
    "import temp\n",
    "print (dir(temp))"
   ]
  },
  {
   "cell_type": "code",
   "execution_count": null,
   "metadata": {
    "slideshow": {
     "slide_type": "slide"
    }
   },
   "outputs": [],
   "source": [
    "print (temp.convert_celcius_to_kelvin(15.7))\n",
    "print (convert_kelvin_to_celcius(302.9))"
   ]
  },
  {
   "cell_type": "code",
   "execution_count": null,
   "metadata": {
    "slideshow": {
     "slide_type": "fragment"
    }
   },
   "outputs": [],
   "source": [
    "from temp import convert_kelvin_to_celcius # Careful when using this\n",
    "print (convert_kelvin_to_celcius(294.1))"
   ]
  },
  {
   "cell_type": "code",
   "execution_count": null,
   "metadata": {
    "slideshow": {
     "slide_type": "fragment"
    }
   },
   "outputs": [],
   "source": [
    "from temp import *  # Discouraged"
   ]
  },
  {
   "cell_type": "markdown",
   "metadata": {
    "slideshow": {
     "slide_type": "slide"
    }
   },
   "source": [
    "### Running a Module as a Script\n",
    "\n",
    "- When Python runs a module it sets up a bunch of variables - one of then is \\_\\_name\\_\\_. \n",
    "\n",
    "- \\_\\_name\\_\\_ is set as \"\\_\\_main\\_\\_\" when the module is run as a the main program.\n",
    "\n",
    "- If the code is importing the module from another module, then the \\_\\_name\\_\\_ variable will be set to that module name."
   ]
  },
  {
   "cell_type": "markdown",
   "metadata": {
    "slideshow": {
     "slide_type": "slide"
    }
   },
   "source": [
    "When you see the following line in a module:\n",
    "    \n",
    "```python\n",
    "if __name__ == '__main__':\n",
    "    # Python code\n",
    "```\n",
    "\n",
    "it means that we want to be able to test and run the module separately other than just importing it.\n",
    "        "
   ]
  },
  {
   "cell_type": "code",
   "execution_count": null,
   "metadata": {},
   "outputs": [],
   "source": [
    "%%writefile temp_with_main.py\n",
    "\n",
    "zeroCelcius = 273.5  # zero degree Celcius in Kelvin\n",
    "\n",
    "def convert_celcius_to_kelvin(temperatureC):\n",
    "    return temperatureC + zeroCelcius\n",
    "\n",
    "def convert_kelvin_to_celcius(temperatureK):\n",
    "    return temperatureK - zeroCelcius\n",
    "\n",
    "if __name__ == '__main__':\n",
    "   print (convert_celcius_to_kelvin(15.7))\n",
    "   print (convert_kelvin_to_celcius(302.9))"
   ]
  },
  {
   "cell_type": "code",
   "execution_count": null,
   "metadata": {
    "slideshow": {
     "slide_type": "skip"
    }
   },
   "outputs": [],
   "source": [
    "!python temp_with_main.py"
   ]
  },
  {
   "cell_type": "markdown",
   "metadata": {},
   "source": [
    "### Python Module Search Path\n",
    "\n",
    "- While importing a module, Python looks at several places. \n",
    "- Python first looks for a built-in module. Then(if built-in module not found), Python looks into a list of directories defined in `sys.path`. \n",
    "- The search is in this order.\n",
    "    * The current directory.\n",
    "    * The `PYTHONPATH` environment variable that has a list of directories.\n",
    "    * The installation-dependent default directory."
   ]
  },
  {
   "cell_type": "code",
   "execution_count": null,
   "metadata": {},
   "outputs": [],
   "source": [
    "import sys\n",
    "sys.path"
   ]
  },
  {
   "cell_type": "markdown",
   "metadata": {},
   "source": [
    "### Extending Module Load Path\n",
    "\n",
    "There are a couple of ways we could tell the Python interpreter where to look for modules, aside from the default, which is the local directory and the built-in modules. \n",
    "\n",
    "You can use the environment variable `PYTHONPATH` to specify additional directories to look for modules:\n",
    "\n",
    "```shell\n",
    "   set PYTHONPATH = (full_path_to_my_module $PYTHONPATH)\n",
    "```\n",
    "\n",
    "Another method is the `sys.path.append` function that you need to call before running an import command:\n",
    "\n",
    "```python\n",
    "   import sys\n",
    "   sys.path.append(full_path_to_my_module)\n",
    "   import module_name\n",
    "```"
   ]
  },
  {
   "cell_type": "markdown",
   "metadata": {},
   "source": [
    "# <font color=\"red\"> Create a Package</font>"
   ]
  },
  {
   "cell_type": "markdown",
   "metadata": {
    "slideshow": {
     "slide_type": "slide"
    }
   },
   "source": [
    "A __package__ is a directory of python modules."
   ]
  },
  {
   "cell_type": "markdown",
   "metadata": {
    "slideshow": {
     "slide_type": "fragment"
    }
   },
   "source": [
    "__packages__:\n",
    "\n",
    "+ Structure namespace using \"dotted module names\"\n",
    "+ Can avoid module name collisions\n",
    "+ package name should be in lowercase and underscore-separated or no word separators at all"
   ]
  },
  {
   "cell_type": "markdown",
   "metadata": {},
   "source": [
    "## Directory Structure of a Package"
   ]
  },
  {
   "cell_type": "markdown",
   "metadata": {
    "slideshow": {
     "slide_type": "fragment"
    }
   },
   "source": [
    "```\n",
    "package_name/\n",
    "    setup.py\n",
    "    LICENSE\n",
    "    README.md\n",
    "    package_name/\n",
    "        __init__.py\n",
    "        subpackage_1/\n",
    "            __init__.py\n",
    "            submodule1_1.py\n",
    "            submodule1_2.py\n",
    "        subpackage_2/\n",
    "            __init__.py\n",
    "            submodule2_1.py\n",
    "            submodule2_2.py\n",
    "            submodule2_3.py\n",
    "```"
   ]
  },
  {
   "cell_type": "markdown",
   "metadata": {},
   "source": [
    "* The top level directory will be the root of the (future) repository, i.e., **package_name.git**. The subdirectory, also called **package_name** is the actual Python module.\n",
    "* Apart from the top level one, the file **<font color=\"red\">\\_\\_init\\_\\_.py</font>** is an empty file.\n"
   ]
  },
  {
   "cell_type": "markdown",
   "metadata": {},
   "source": [
    "### Top Level **<font color=\"red\">\\_\\_init\\_\\_.py</font>** File"
   ]
  },
  {
   "cell_type": "code",
   "execution_count": null,
   "metadata": {},
   "outputs": [],
   "source": [
    "\"\"\"\n",
    "   Provide a description of the module\n",
    "\"\"\"\n",
    "from . import subpackage_1\n",
    "from . import subpackage_2\n",
    "\n",
    "name = package_name\n"
   ]
  },
  {
   "cell_type": "markdown",
   "metadata": {},
   "source": [
    "### Creating the **<font color=\"red\">setup.py</font>** File "
   ]
  },
  {
   "cell_type": "code",
   "execution_count": null,
   "metadata": {},
   "outputs": [],
   "source": [
    "import setuptools\n",
    "\n",
    "with open(\"README.md\", \"r\") as fh:\n",
    "    long_description = fh.read()\n",
    "\n",
    "setuptools.setup(\n",
    "    name=\"package_name\",\n",
    "    version=\"0.1\",\n",
    "    author=\"first_name last_name\",\n",
    "    author_email=\"your_user_id@example.com\",\n",
    "    description=\"A small example package\",\n",
    "    long_description=long_description,\n",
    "    long_description_content_type=\"text/markdown\",\n",
    "    url=\"https://github.com/github_user_id/package_name\",\n",
    "    packages=setuptools.find_packages(),\n",
    "    classifiers=[\n",
    "        \"Programming Language :: Python :: 3\",\n",
    "        \"License :: OSI Approved :: MIT License\",\n",
    "        \"Operating System :: OS Independent\",\n",
    "    ],\n",
    ")"
   ]
  },
  {
   "cell_type": "markdown",
   "metadata": {},
   "source": [
    "#### Creating the <font color='red'> README.md </font> File"
   ]
  },
  {
   "cell_type": "code",
   "execution_count": null,
   "metadata": {},
   "outputs": [],
   "source": [
    "# Welcome to package_name\n",
    "\n",
    "This is a simple example package. You can use\n",
    "[Github-flavored Markdown](https://guides.github.com/features/mastering-markdown/)\n",
    "to write your content."
   ]
  },
  {
   "cell_type": "markdown",
   "metadata": {},
   "source": [
    "#### Creating the <font color='red'> LICENSE </font> File"
   ]
  },
  {
   "cell_type": "markdown",
   "metadata": {},
   "source": [
    "Copyright (c) 2019 The Python Packaging Authority\n",
    "\n",
    "Permission is hereby granted, free of charge, to any person obtaining a copy\n",
    "of this software and associated documentation files (the \"Software\"), to deal\n",
    "in the Software without restriction, including without limitation the rights\n",
    "to use, copy, modify, merge, publish, distribute, sublicense, and/or sell\n",
    "copies of the Software, and to permit persons to whom the Software is\n",
    "furnished to do so, subject to the following conditions:\n",
    "\n",
    "The above copyright notice and this permission notice shall be included in all\n",
    "copies or substantial portions of the Software.\n",
    "\n",
    "THE SOFTWARE IS PROVIDED \"AS IS\", WITHOUT WARRANTY OF ANY KIND, EXPRESS OR\n",
    "IMPLIED, INCLUDING BUT NOT LIMITED TO THE WARRANTIES OF MERCHANTABILITY,\n",
    "FITNESS FOR A PARTICULAR PURPOSE AND NONINFRINGEMENT. IN NO EVENT SHALL THE\n",
    "AUTHORS OR COPYRIGHT HOLDERS BE LIABLE FOR ANY CLAIM, DAMAGES OR OTHER\n",
    "LIABILITY, WHETHER IN AN ACTION OF CONTRACT, TORT OR OTHERWISE, ARISING FROM,\n",
    "OUT OF OR IN CONNECTION WITH THE SOFTWARE OR THE USE OR OTHER DEALINGS IN THE\n",
    "SOFTWARE."
   ]
  },
  {
   "cell_type": "markdown",
   "metadata": {},
   "source": [
    "## Locally Install the Package"
   ]
  },
  {
   "cell_type": "markdown",
   "metadata": {},
   "source": [
    "You can install the package locally (for use on our system), with:\n",
    "\n",
    "    $ pip install ."
   ]
  },
  {
   "cell_type": "markdown",
   "metadata": {},
   "source": [
    "You can also install the package with a symlink, so that changes to the source files will be immediately available to other users of the package on our system:\n",
    "\n",
    "    $ pip install -e ."
   ]
  },
  {
   "cell_type": "markdown",
   "metadata": {},
   "source": [
    "Anywhere else in your system using the same Python, we can do this now:\n",
    "\n",
    "    import package_name\n",
    "    package_name.submodule2_3.calc()"
   ]
  },
  {
   "cell_type": "markdown",
   "metadata": {},
   "source": [
    "## Exercise\n",
    "* Use the content of the temp_conversion/ directory to create a package name temp_conversion.\n",
    "* Install the package in your local system.\n",
    "* Test the package in your local Python environment"
   ]
  },
  {
   "cell_type": "markdown",
   "metadata": {},
   "source": [
    "## Publishing Your Package On PyPI"
   ]
  },
  {
   "cell_type": "markdown",
   "metadata": {},
   "source": [
    "* The setup.py script is also our main entrypoint to register the package name on PyPI and upload source distributions.\n",
    "* To “register” the package (this will reserve the name, upload package metadata, and create the pypi.python.org webpage):\n",
    "\n",
    "             $ python setup.py register\n",
    "\n"
   ]
  },
  {
   "cell_type": "code",
   "execution_count": null,
   "metadata": {},
   "outputs": [],
   "source": []
  },
  {
   "cell_type": "markdown",
   "metadata": {},
   "source": [
    "* If you haven’t published things on PyPI before, you’ll need to create an account.\n",
    "* Your package will appear in:\n",
    "   \n",
    "       http://pypi.python.org/pypi/package_name/0.1"
   ]
  },
  {
   "cell_type": "markdown",
   "metadata": {},
   "source": [
    "## Installing the Package"
   ]
  },
  {
   "cell_type": "markdown",
   "metadata": {},
   "source": [
    "Other people of this package can install the package with pip:\n",
    "\n",
    "       $ pip install package_name"
   ]
  },
  {
   "cell_type": "markdown",
   "metadata": {},
   "source": [
    "## Search a Package"
   ]
  },
  {
   "cell_type": "code",
   "execution_count": null,
   "metadata": {
    "slideshow": {
     "slide_type": "slide"
    }
   },
   "outputs": [],
   "source": [
    "from package_name.file import File"
   ]
  },
  {
   "cell_type": "code",
   "execution_count": null,
   "metadata": {
    "slideshow": {
     "slide_type": "fragment"
    }
   },
   "outputs": [],
   "source": [
    "# in your __init__.py\n",
    "from file import File\n",
    "\n",
    "# now import File from package\n",
    "from package import File"
   ]
  },
  {
   "cell_type": "markdown",
   "metadata": {
    "slideshow": {
     "slide_type": "slide"
    }
   },
   "source": [
    "How does Python find packages and modules?\n",
    "\n",
    "Python imports work by searching the directories listed in sys.path. "
   ]
  },
  {
   "cell_type": "code",
   "execution_count": null,
   "metadata": {
    "slideshow": {
     "slide_type": "fragment"
    }
   },
   "outputs": [],
   "source": [
    "import sys\n",
    "print ('\\n'.join(sys.path))"
   ]
  },
  {
   "cell_type": "code",
   "execution_count": null,
   "metadata": {
    "slideshow": {
     "slide_type": "slide"
    }
   },
   "outputs": [],
   "source": [
    "# where the module is in your filesystem\n",
    "import numpy\n",
    "print (numpy.__file__)"
   ]
  },
  {
   "cell_type": "code",
   "execution_count": null,
   "metadata": {
    "slideshow": {
     "slide_type": "slide"
    }
   },
   "outputs": [],
   "source": [
    "# explore entire import system through the imp module.\n",
    "import imp\n",
    "imp.find_module('numpy')"
   ]
  },
  {
   "cell_type": "code",
   "execution_count": null,
   "metadata": {
    "slideshow": {
     "slide_type": "slide"
    }
   },
   "outputs": [],
   "source": [
    "# Getting file path of imported module\n",
    "import os.path\n",
    "import area\n",
    "\n",
    "print (os.path.abspath(area.__file__))"
   ]
  },
  {
   "cell_type": "markdown",
   "metadata": {},
   "source": [
    "# <font color=\"red\"> YAML</font>\n",
    "\n",
    "> **YAML Ain’t Markup Language (YAML)** is a data serialization language for most programming languages.\n",
    "\n",
    "- YAML is mostly used for configuration files in projects and it’s super easy to understand and read the code.\n",
    "- The file extension for YAML files is `.yaml` or `.yml`.\n",
    "- The YAML follows indentation syntax similar to Python. But, it doesn’t allow **tab** for indentation."
   ]
  },
  {
   "cell_type": "markdown",
   "metadata": {},
   "source": [
    "**Sample YAML File**\n",
    "\n",
    "- We create a YAML file that has two sections: `KtoC` and `CtoK`.\n",
    "- Each section sets the `vals` variable."
   ]
  },
  {
   "cell_type": "code",
   "execution_count": null,
   "metadata": {},
   "outputs": [],
   "source": [
    "%%writefile sample_temp_input.yaml\n",
    "---\n",
    "KtoC:\n",
    "    vals: 302.9\n",
    "\n",
    "CtoK:\n",
    "    vals: 15.7"
   ]
  },
  {
   "cell_type": "markdown",
   "metadata": {},
   "source": [
    "**Reading a YAML File**"
   ]
  },
  {
   "cell_type": "code",
   "execution_count": null,
   "metadata": {},
   "outputs": [],
   "source": [
    "import yaml\n",
    "\n",
    "with open(\"sample_temp_input.yaml\", 'r') as yaml_file:\n",
    "     yaml_content = yaml.load(yaml_file, yaml.Loader)\n",
    "\n",
    "print(\"Key: Value\")\n",
    "for key, value in yaml_content.items():\n",
    "    print(f\"{key}: {value}\")"
   ]
  },
  {
   "cell_type": "markdown",
   "metadata": {},
   "source": [
    "Reading the YAML file creates a dictionary which:\n",
    "- Keys are the different sections, and\n",
    "- Values are themselves dictionaries of variables and associated values in the YAML file."
   ]
  },
  {
   "cell_type": "markdown",
   "metadata": {},
   "source": [
    "We can create a similar YAML file where `vals` is a list of numbers:"
   ]
  },
  {
   "cell_type": "code",
   "execution_count": null,
   "metadata": {},
   "outputs": [],
   "source": [
    "%%writefile sample_temp_input.yaml\n",
    "---\n",
    "KtoC:\n",
    "    vals: [302.9, 283.5, 269.8]\n",
    "\n",
    "CtoK:\n",
    "    vals: [15.7, -6.5, 23.7, 34.2]"
   ]
  },
  {
   "cell_type": "code",
   "execution_count": null,
   "metadata": {},
   "outputs": [],
   "source": [
    "with open(\"sample_temp_input.yaml\", 'r') as yaml_file:\n",
    "     yaml_content = yaml.load(yaml_file, yaml.Loader)\n",
    "\n",
    "print(\"Key: Value\")\n",
    "for key, value in yaml_content.items():\n",
    "    print(f\"{key}: {value}\")"
   ]
  },
  {
   "cell_type": "code",
   "execution_count": null,
   "metadata": {},
   "outputs": [],
   "source": []
  }
 ],
 "metadata": {
  "anaconda-cloud": {},
  "celltoolbar": "Slideshow",
  "kernelspec": {
   "display_name": "Python 3",
   "language": "python",
   "name": "python3"
  },
  "language_info": {
   "codemirror_mode": {
    "name": "ipython",
    "version": 3
   },
   "file_extension": ".py",
   "mimetype": "text/x-python",
   "name": "python",
   "nbconvert_exporter": "python",
   "pygments_lexer": "ipython3",
   "version": "3.7.3"
  }
 },
 "nbformat": 4,
 "nbformat_minor": 1
}
