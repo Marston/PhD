{
  "nbformat": 4,
  "nbformat_minor": 0,
  "metadata": {
    "anaconda-cloud": {},
    "kernelspec": {
      "display_name": "Python 3",
      "language": "python",
      "name": "python3"
    },
    "language_info": {
      "codemirror_mode": {
        "name": "ipython",
        "version": 3
      },
      "file_extension": ".py",
      "mimetype": "text/x-python",
      "name": "python",
      "nbconvert_exporter": "python",
      "pygments_lexer": "ipython3",
      "version": "3.7.3"
    },
    "colab": {
      "name": "introduction_pandas.ipynb",
      "provenance": []
    }
  },
  "cells": [
    {
      "cell_type": "markdown",
      "metadata": {
        "id": "CniZkbMNajQm"
      },
      "source": [
        "<font color=\"white\">.</font> | <font color=\"white\">.</font> | <font color=\"white\">.</font>\n",
        "-- | -- | --\n",
        "![NASA](http://www.nasa.gov/sites/all/themes/custom/nasatwo/images/nasa-logo.svg) | <h1><font size=\"+3\">ASTG Python Courses</font></h1> | ![NASA](https://www.nccs.nasa.gov/sites/default/files/NCCS_Logo_0.png)\n",
        "\n",
        "---\n",
        "\n",
        "<center><h1><font color=\"red\" size=\"+3\">Introduction to Pandas</font></h1></center>"
      ]
    },
    {
      "cell_type": "markdown",
      "metadata": {
        "id": "zzk6AvZ_ajQt"
      },
      "source": [
        "## <font color=\"red\">Useful References</font>\n",
        "- <a href=\"https://bitbucket.org/hrojas/learn-pandas/src/master/\">Learn Pandas</a> (by Hernan Rojas)\n",
        "- <a href=\"https://www.learndatasci.com/tutorials/python-pandas-tutorial-complete-introduction-for-beginners/\"> Python Pandas Tutorial: A Complete Introduction for Beginners</a>\n",
        "- <a href=\"https://www.python-course.eu/pandas.php\">Introduction into Pandas</a>\n",
        "- <a href=\"http://earthpy.org/pandas-basics.html\">Time series analysis with pandas</a>\n",
        "- <a href=\"https://jakevdp.github.io/PythonDataScienceHandbook/03.11-working-with-time-series.html\">Working with Time Series</a>"
      ]
    },
    {
      "cell_type": "markdown",
      "metadata": {
        "id": "_N85oMeFajQt"
      },
      "source": [
        "![fig_logo](https://miro.medium.com/max/3200/1*9v51-jsfHtk6fgAIYLoiHQ.jpeg)\n",
        "Image Source: pandas.pydata.org\n",
        "\n",
        "## <font color=\"red\">What is Pandas?</font>\n",
        "+ `Pandas` is an open source, BSD-licensed library providing high-performance, easy-to-use data structures and data analysis tools for the Python programming language.\n",
        "+ Some key features:\n",
        "    - Fast and efficient DataFrame object with default and customized indexing.\n",
        "    - Tools for loading data into in-memory data objects from different file formats.\n",
        "    - Data alignment and integrated handling of missing data.\n",
        "    - Reshaping and pivoting of data sets.\n",
        "    - Label-based slicing, indexing and subsetting of large data sets.\n",
        "    - Columns from a data structure can be deleted or inserted.\n",
        "    - Group by data for aggregation and transformations.\n",
        "    - High performance merging and joining of data.\n",
        "    - Time Series functionality.\n",
        "+ Able to manipulate several <a href=\"https://pandas.pydata.org/pandas-docs/stable/user_guide/io.html\">types of files</a>, including CSVs, TSVs , JSONs, HTML, xlsx, HDF5, Python Pickle, among others.\n",
        "* Is compatible with many of the other data analysis libraries, like Scikit-Learn, Matplotlib, NumPy, and more. \n",
        "\n",
        "Some of key features of `Pandas` are captured in the diagram below:\n",
        "\n",
        "![fig_features](https://d2h0cx97tjks2p.cloudfront.net/blogs/wp-content/uploads/sites/2/2019/04/Python-Pandas-Features.jpg)\n",
        "Image Source: data-flair.training"
      ]
    },
    {
      "cell_type": "markdown",
      "metadata": {
        "id": "4rXdEZMvajQu"
      },
      "source": [
        "### What Will be Covered\n",
        "\n",
        "1. Pandas data structures\n",
        "2. Grouby Function\n",
        "3. Reading remote CSV files and tables.\n",
        "4. Cleaning and formatting data\n",
        "5. Manipulating time series data\n",
        "6. Performing statistical calculations\n",
        "7. Visualizing the data"
      ]
    },
    {
      "cell_type": "code",
      "metadata": {
        "id": "Z22eO_6IajQu"
      },
      "source": [
        "import warnings\n",
        "warnings.filterwarnings(\"ignore\")"
      ],
      "execution_count": null,
      "outputs": []
    },
    {
      "cell_type": "markdown",
      "metadata": {
        "id": "W_nUb8mzajQv"
      },
      "source": [
        "### Standard imports"
      ]
    },
    {
      "cell_type": "code",
      "metadata": {
        "id": "uVFXH5k3ajQv"
      },
      "source": [
        "import numpy as np\n",
        "import datetime\n",
        "import pandas as pd\n",
        "print('Using pandas version ',pd.__version__)"
      ],
      "execution_count": null,
      "outputs": []
    },
    {
      "cell_type": "markdown",
      "metadata": {
        "id": "reWfiKVYajQv"
      },
      "source": [
        "#### Notebook settings"
      ]
    },
    {
      "cell_type": "code",
      "metadata": {
        "id": "ku2PH1GrajQv"
      },
      "source": [
        "%matplotlib inline\n",
        "\n",
        "# Only 10 rows of data will be displayed\n",
        "pd.set_option(\"max_rows\", 10) \n",
        "\n",
        "# Print floating point numbers using fixed point notation\n",
        "np.set_printoptions(suppress=True)\n",
        "\n",
        "# Set figure size\n",
        "LARGE_FIGSIZE = (8, 6)"
      ],
      "execution_count": null,
      "outputs": []
    },
    {
      "cell_type": "markdown",
      "metadata": {
        "id": "KOBy2TITajQv"
      },
      "source": [
        "#### Graphics"
      ]
    },
    {
      "cell_type": "code",
      "metadata": {
        "id": "j68fpfQ7ajQw"
      },
      "source": [
        "#from seaborn import set_style\n",
        "#set_style(\"darkgrid\")\n",
        "import seaborn as sns\n",
        "sns.set(style='ticks', context='talk')\n",
        "import matplotlib.pyplot as plt"
      ],
      "execution_count": null,
      "outputs": []
    },
    {
      "cell_type": "markdown",
      "metadata": {
        "id": "CNxo3e8hajQw"
      },
      "source": [
        "## <font color=\"red\">`pandas` Data Structures\n",
        "- Pandas data structures are similar to numpy ndarrays but with extra functionality."
      ]
    },
    {
      "cell_type": "markdown",
      "metadata": {
        "id": "7sNXElJGajQy"
      },
      "source": [
        "#### 1D data structures"
      ]
    },
    {
      "cell_type": "markdown",
      "metadata": {
        "id": "EvDk13H6ajQy"
      },
      "source": [
        "A <font color='red'>Series</font>  is a one-dimensional labeled array capable of holding any data type (integers, strings, floating point numbers, Python objects, etc.). The axis labels are collectively referred to as the **index**. \n",
        "\n",
        "Think of a Series as a cross between a list and a dict."
      ]
    },
    {
      "cell_type": "markdown",
      "metadata": {
        "id": "UNYGfkSVajQz"
      },
      "source": [
        "![title](https://github.com/astg606/py_materials/blob/master/pandas/img/pandas_series.png?raw=1)"
      ]
    },
    {
      "cell_type": "markdown",
      "metadata": {
        "id": "67CANtEAajQz"
      },
      "source": [
        "A series can be constructed with the `pd.Series` constructor (passing a list or array of values)."
      ]
    },
    {
      "cell_type": "code",
      "metadata": {
        "id": "KnDgJ6CrajQz"
      },
      "source": [
        "my_list = [5, 8, 13, 0.1, -5]"
      ],
      "execution_count": null,
      "outputs": []
    },
    {
      "cell_type": "markdown",
      "metadata": {
        "id": "zptJ0_YPajQ0"
      },
      "source": [
        "Use a list to create a Numpy array:"
      ]
    },
    {
      "cell_type": "code",
      "metadata": {
        "id": "Y-uGzcY_ajQ1"
      },
      "source": [
        "a = np.array(my_list)\n",
        "print(type(a))\n",
        "print(a)"
      ],
      "execution_count": null,
      "outputs": []
    },
    {
      "cell_type": "markdown",
      "metadata": {
        "id": "7EYzq7jHajQ1"
      },
      "source": [
        "Use a list to create a Pandas Series:"
      ]
    },
    {
      "cell_type": "code",
      "metadata": {
        "id": "xFLt268GajQ2"
      },
      "source": [
        "sr = pd.Series(my_list)\n",
        "print(type(sr))\n",
        "print(sr)"
      ],
      "execution_count": null,
      "outputs": []
    },
    {
      "cell_type": "markdown",
      "metadata": {
        "id": "coSFR6xoajQ2"
      },
      "source": [
        "...get default index values"
      ]
    },
    {
      "cell_type": "markdown",
      "metadata": {
        "id": "rtf3ljV-ajQ3"
      },
      "source": [
        "#### NumPy arrays as backend of Pandas"
      ]
    },
    {
      "cell_type": "markdown",
      "metadata": {
        "id": "EYdGv5JLajQ3"
      },
      "source": [
        "Contains an array of data:"
      ]
    },
    {
      "cell_type": "code",
      "metadata": {
        "id": "Inho6eVKajQ3"
      },
      "source": [
        "sr.values  "
      ],
      "execution_count": null,
      "outputs": []
    },
    {
      "cell_type": "markdown",
      "metadata": {
        "id": "wcZ_cRdqajQ3"
      },
      "source": [
        "Has an associated array of data labels `from 0, N-1`:"
      ]
    },
    {
      "cell_type": "code",
      "metadata": {
        "scrolled": true,
        "id": "P521SzKoajQ4"
      },
      "source": [
        "sr.index"
      ],
      "execution_count": null,
      "outputs": []
    },
    {
      "cell_type": "code",
      "metadata": {
        "id": "eGUgiWa1ajQ4"
      },
      "source": [
        "my_rows = list(range(5))\n",
        "print(my_rows)"
      ],
      "execution_count": null,
      "outputs": []
    },
    {
      "cell_type": "code",
      "metadata": {
        "scrolled": true,
        "id": "Q-PrexyJajQ4"
      },
      "source": [
        "sr.index.values "
      ],
      "execution_count": null,
      "outputs": []
    },
    {
      "cell_type": "markdown",
      "metadata": {
        "id": "kQzxzdXeajQ4"
      },
      "source": [
        "Obtain statistical information:"
      ]
    },
    {
      "cell_type": "code",
      "metadata": {
        "id": "cjzHV2IXajQ5"
      },
      "source": [
        "sr.describe()"
      ],
      "execution_count": null,
      "outputs": []
    },
    {
      "cell_type": "markdown",
      "metadata": {
        "id": "jvj51Q9TajQ5"
      },
      "source": [
        "#### More on the index"
      ]
    },
    {
      "cell_type": "markdown",
      "metadata": {
        "id": "D42mZHKYajQ5"
      },
      "source": [
        "Rename the index values:"
      ]
    },
    {
      "cell_type": "code",
      "metadata": {
        "id": "v9cK5-hhajQ6"
      },
      "source": [
        "sr.index = ['A','B','C','D','E']\n",
        "print(sr)"
      ],
      "execution_count": null,
      "outputs": []
    },
    {
      "cell_type": "markdown",
      "metadata": {
        "id": "f5lmCQ2IajQ6"
      },
      "source": [
        "Or pass the index values during Pandas series creation:"
      ]
    },
    {
      "cell_type": "code",
      "metadata": {
        "id": "GZHHr-DYajQ7"
      },
      "source": [
        "sr1 = pd.Series(my_list, index=['A','B','C','D','E'])\n",
        "print(sr1)"
      ],
      "execution_count": null,
      "outputs": []
    },
    {
      "cell_type": "markdown",
      "metadata": {
        "id": "LlGLPYZnajQ7"
      },
      "source": [
        "#### Numpy Array has an implicitly defined integer index used to access the values while the Pandas Series has an explicitly defined index associated with the values."
      ]
    },
    {
      "cell_type": "markdown",
      "metadata": {
        "id": "ZJZDK0ZMajQ7"
      },
      "source": [
        "Get value at position `n` in series"
      ]
    },
    {
      "cell_type": "code",
      "metadata": {
        "scrolled": true,
        "id": "e2hdNgBgajQ8"
      },
      "source": [
        "print(sr[3])  "
      ],
      "execution_count": null,
      "outputs": []
    },
    {
      "cell_type": "markdown",
      "metadata": {
        "id": "3DfeUVWkajQ8"
      },
      "source": [
        "Use `iloc` to get value at position `n`"
      ]
    },
    {
      "cell_type": "code",
      "metadata": {
        "id": "0Hz82YnNajQ8"
      },
      "source": [
        "print(sr.iloc[3]) "
      ],
      "execution_count": null,
      "outputs": []
    },
    {
      "cell_type": "markdown",
      "metadata": {
        "id": "58bsQmyBajQ8"
      },
      "source": [
        "Value at given index using dictionary-like syntax"
      ]
    },
    {
      "cell_type": "code",
      "metadata": {
        "id": "Ykp5HCGoajQ9"
      },
      "source": [
        "print(sr.loc['D'])"
      ],
      "execution_count": null,
      "outputs": []
    },
    {
      "cell_type": "markdown",
      "metadata": {
        "id": "WFA1NWbbajQ9"
      },
      "source": [
        "#### 2D data structures\n",
        "\n",
        "Pandas: <font color='red'>DataFrame</font> is a 2-dimensional labeled data structure with columns of potentially different types. It is generally the most commonly used pandas object.\n",
        "\n",
        "A <font color='red'>DataFrame</font> is like a sequence of aligned <font color='red'>Series</font> objects, i.e. they share the same index.\n",
        "\n",
        "![title](https://github.com/astg606/py_materials/blob/master/pandas/img/pandas_df.png?raw=1)\n",
        "\n",
        "\n",
        "A DataFrame can be thought of as a generalization of a two-dimensional NumPy array, where both the rows and columns have a generalized index for accessing the data."
      ]
    },
    {
      "cell_type": "code",
      "metadata": {
        "id": "jfU75o1kajQ-"
      },
      "source": [
        "df = pd.DataFrame(data=[[5, True, 'x', 2.7],\n",
        "                        [8, True, 'y', 3.1],\n",
        "                        [13,False,'z', np.NaN],\n",
        "                        [1, False, 'a', 0.1],\n",
        "                        [-5, True, 'b', -2]],\n",
        "                  index=['A','B','C','D','E'],\n",
        "                  columns=['num', 'bool', 'str', 'real'])\n",
        "print(type(df))\n",
        "df"
      ],
      "execution_count": null,
      "outputs": []
    },
    {
      "cell_type": "markdown",
      "metadata": {
        "id": "4UzzNCqjajQ-"
      },
      "source": [
        "Obtain basic data information:"
      ]
    },
    {
      "cell_type": "code",
      "metadata": {
        "id": "DSLSiOPKajQ-"
      },
      "source": [
        "df.info()"
      ],
      "execution_count": null,
      "outputs": []
    },
    {
      "cell_type": "markdown",
      "metadata": {
        "id": "X9FV2fL0ajQ-"
      },
      "source": [
        "Obtain statistical information:"
      ]
    },
    {
      "cell_type": "code",
      "metadata": {
        "id": "d2Wlc9KLajQ-"
      },
      "source": [
        "df.describe()"
      ],
      "execution_count": null,
      "outputs": []
    },
    {
      "cell_type": "markdown",
      "metadata": {
        "id": "vDi3o6mEajQ_"
      },
      "source": [
        "Get list of column names:"
      ]
    },
    {
      "cell_type": "code",
      "metadata": {
        "id": "c8MyZA9HajQ_"
      },
      "source": [
        "df.columns"
      ],
      "execution_count": null,
      "outputs": []
    },
    {
      "cell_type": "markdown",
      "metadata": {
        "id": "8qS5Wiz3ajRA"
      },
      "source": [
        "Get the index values:"
      ]
    },
    {
      "cell_type": "code",
      "metadata": {
        "id": "Joik2MJ5ajRA"
      },
      "source": [
        "df.index"
      ],
      "execution_count": null,
      "outputs": []
    },
    {
      "cell_type": "markdown",
      "metadata": {
        "id": "INyoKsm1ajRA"
      },
      "source": [
        "Get specific column(s):"
      ]
    },
    {
      "cell_type": "code",
      "metadata": {
        "id": "IwW-FCPGajRA"
      },
      "source": [
        "df['num']"
      ],
      "execution_count": null,
      "outputs": []
    },
    {
      "cell_type": "code",
      "metadata": {
        "id": "BiJo28AEajRA"
      },
      "source": [
        "df.num"
      ],
      "execution_count": null,
      "outputs": []
    },
    {
      "cell_type": "code",
      "metadata": {
        "id": "oeD_V7U-ajRA"
      },
      "source": [
        "df[['num','real']]"
      ],
      "execution_count": null,
      "outputs": []
    },
    {
      "cell_type": "markdown",
      "metadata": {
        "id": "eEhtyCt5ajRB"
      },
      "source": [
        "Get specific row(s):"
      ]
    },
    {
      "cell_type": "code",
      "metadata": {
        "id": "5FYzXieuajRD"
      },
      "source": [
        "df.loc['C']"
      ],
      "execution_count": null,
      "outputs": []
    },
    {
      "cell_type": "code",
      "metadata": {
        "id": "A90QQdr6ajRD"
      },
      "source": [
        "df.loc[['B', 'D']]"
      ],
      "execution_count": null,
      "outputs": []
    },
    {
      "cell_type": "code",
      "metadata": {
        "id": "55JL0de8ajRD"
      },
      "source": [
        "df.loc['A':'E':2]"
      ],
      "execution_count": null,
      "outputs": []
    },
    {
      "cell_type": "code",
      "metadata": {
        "id": "Sm6xk996ajRD"
      },
      "source": [
        "df.iloc[2]"
      ],
      "execution_count": null,
      "outputs": []
    },
    {
      "cell_type": "code",
      "metadata": {
        "id": "W3eBwkYtajRD"
      },
      "source": [
        "df.iloc[1:4]"
      ],
      "execution_count": null,
      "outputs": []
    },
    {
      "cell_type": "markdown",
      "metadata": {
        "id": "2g2Lw98FajRE"
      },
      "source": [
        "Get specific row(s) and column(s):"
      ]
    },
    {
      "cell_type": "code",
      "metadata": {
        "id": "TZTZU7SAajRE"
      },
      "source": [
        "df.loc['A':'D':2, ['num', 'real']]"
      ],
      "execution_count": null,
      "outputs": []
    },
    {
      "cell_type": "markdown",
      "metadata": {
        "id": "qt4c37oUajRE"
      },
      "source": [
        "Apply masking:"
      ]
    },
    {
      "cell_type": "code",
      "metadata": {
        "id": "vTe-2CnRajRE"
      },
      "source": [
        "df[df.real > 1.0]"
      ],
      "execution_count": null,
      "outputs": []
    },
    {
      "cell_type": "code",
      "metadata": {
        "id": "0UzZIZsDajRE"
      },
      "source": [
        "df[df.real == 3.1]"
      ],
      "execution_count": null,
      "outputs": []
    },
    {
      "cell_type": "markdown",
      "metadata": {
        "id": "XC2LEZ8BajRE"
      },
      "source": [
        "Problem with `NaN`:\n",
        "- In Python (and NumPy), the `nan`'s don’t compare to equal. \n",
        "- Pandas/NumPy uses the fact that `np.nan != np.nan`, and treats `None` like `np.nan`.\n",
        "- A scalar equality comparison versus a `None/np.nan` doesn’t provide useful information."
      ]
    },
    {
      "cell_type": "code",
      "metadata": {
        "id": "-7wv2neyajRE"
      },
      "source": [
        "df.real"
      ],
      "execution_count": null,
      "outputs": []
    },
    {
      "cell_type": "code",
      "metadata": {
        "id": "cBqLBbMVajRF"
      },
      "source": [
        "df.real == np.NaN"
      ],
      "execution_count": null,
      "outputs": []
    },
    {
      "cell_type": "markdown",
      "metadata": {
        "id": "J8f6iCR_ajRF"
      },
      "source": [
        "We can use the `isnull` method to find out which dataframe entries are '`NaN`."
      ]
    },
    {
      "cell_type": "code",
      "metadata": {
        "id": "4YESLr4-ajRF"
      },
      "source": [
        "df.isnull()"
      ],
      "execution_count": null,
      "outputs": []
    },
    {
      "cell_type": "code",
      "metadata": {
        "id": "rykcUG0fajRF"
      },
      "source": [
        "df.isnull().values.any()"
      ],
      "execution_count": null,
      "outputs": []
    },
    {
      "cell_type": "code",
      "metadata": {
        "id": "bsg9cG8aajRG"
      },
      "source": [
        "df.isnull().sum()"
      ],
      "execution_count": null,
      "outputs": []
    },
    {
      "cell_type": "markdown",
      "metadata": {
        "id": "hVhRnSNyajRG"
      },
      "source": [
        "#### Create a DataFrame from a 2D Numpy array\n",
        "\n",
        "Given a two-dimensional array of data, we can create a dataframe with any specified column and index names. If left out, an integer index will be used for each."
      ]
    },
    {
      "cell_type": "code",
      "metadata": {
        "id": "2qUWMfGBajRG"
      },
      "source": [
        "my_nparray = np.random.rand(3, 2)\n",
        "print(\"Numpy array: \", my_nparray)"
      ],
      "execution_count": null,
      "outputs": []
    },
    {
      "cell_type": "markdown",
      "metadata": {
        "id": "FRfekfEvajRG"
      },
      "source": [
        "Create a Pandas dataframe using a Numpy array"
      ]
    },
    {
      "cell_type": "code",
      "metadata": {
        "id": "AQ-qluVlajRG"
      },
      "source": [
        "pddf = pd.DataFrame(my_nparray,\n",
        "                    columns=['foo', 'bar'],\n",
        "                    index=['a', 'b', 'c'])\n",
        "pddf"
      ],
      "execution_count": null,
      "outputs": []
    },
    {
      "cell_type": "markdown",
      "metadata": {
        "id": "uv_1-csoajRG"
      },
      "source": [
        "Create a Pandas dataframe using Pandas series"
      ]
    },
    {
      "cell_type": "code",
      "metadata": {
        "id": "tzoNzn9bajRG"
      },
      "source": [
        "pdsr1 = pd.Series(np.random.rand(3))\n",
        "print(\"First_Series: \\n\", pdsr1)"
      ],
      "execution_count": null,
      "outputs": []
    },
    {
      "cell_type": "code",
      "metadata": {
        "id": "8DpVULw_ajRG"
      },
      "source": [
        "pdsr2 = pd.Series(np.random.rand(3))\n",
        "print(\"Second_Series: \\n\", pdsr2)"
      ],
      "execution_count": null,
      "outputs": []
    },
    {
      "cell_type": "code",
      "metadata": {
        "id": "iKzKDEv7ajRG"
      },
      "source": [
        "df1 = pd.DataFrame(dict(First_Series = pdsr1, Second_Series = pdsr2))\n",
        "print(df1)"
      ],
      "execution_count": null,
      "outputs": []
    },
    {
      "cell_type": "markdown",
      "metadata": {
        "id": "VYcL4kpkajRG"
      },
      "source": [
        "### <font color='green'>Exercise</font>\n",
        "In the above Pandas dataframe, relabel the index as `['Row0', 'Row1', 'Row2']`."
      ]
    },
    {
      "cell_type": "markdown",
      "metadata": {
        "id": "IjdqEOh4ajRH"
      },
      "source": [
        "**A pandas dataframe can be seen as a collection of pandas series**\n",
        "![fig_objects](https://doit-test.readthedocs.io/en/latest/_images/base_01_pandas_5_0.png)\n",
        "Image Source: doit-test.readthedocs.io"
      ]
    },
    {
      "cell_type": "markdown",
      "metadata": {
        "id": "-IVj1dNcajRH"
      },
      "source": [
        "## <font color='red'>Pandas Datetime</font>\n",
        "- Pandas provides a number to tools to handle times series data.\n",
        "- Pandas datetime methods are used to work with datetime in Pandas."
      ]
    },
    {
      "cell_type": "markdown",
      "metadata": {
        "id": "bf24RGK3ajRH"
      },
      "source": [
        "Generate sequences of fixed-frequency dates and time spans:"
      ]
    },
    {
      "cell_type": "code",
      "metadata": {
        "id": "TJWmuhEuajRH"
      },
      "source": [
        "dti = pd.date_range('2018-01-01', periods=15, freq='H')\n",
        "print(type(dti))\n",
        "dti"
      ],
      "execution_count": null,
      "outputs": []
    },
    {
      "cell_type": "markdown",
      "metadata": {
        "id": "2jrF6sPZajRJ"
      },
      "source": [
        "Manipulating and converting date times with timezone information:"
      ]
    },
    {
      "cell_type": "code",
      "metadata": {
        "id": "f8q7v5PTajRJ"
      },
      "source": [
        "dti = dti.tz_localize(\"UTC\")\n",
        "dti"
      ],
      "execution_count": null,
      "outputs": []
    },
    {
      "cell_type": "markdown",
      "metadata": {
        "id": "M8FzTwX1ajRJ"
      },
      "source": [
        "Use the sequence to create a Pandas series:"
      ]
    },
    {
      "cell_type": "code",
      "metadata": {
        "id": "sLSreOyMajRJ"
      },
      "source": [
        "ts = pd.Series(range(len(dti)), index=dti)\n",
        "print(ts)"
      ],
      "execution_count": null,
      "outputs": []
    },
    {
      "cell_type": "markdown",
      "metadata": {
        "id": "SZMYN_d8ajRJ"
      },
      "source": [
        "Resample or convert the time series to a particular frequency:\n",
        "\n",
        "- Sample every two hours and compute the mean"
      ]
    },
    {
      "cell_type": "code",
      "metadata": {
        "id": "mkL-B3lSajRJ"
      },
      "source": [
        "ts.resample('2H').mean()"
      ],
      "execution_count": null,
      "outputs": []
    },
    {
      "cell_type": "markdown",
      "metadata": {
        "id": "D6cOFYVbajRJ"
      },
      "source": [
        "Create a Pandas series where the index is the time component:"
      ]
    },
    {
      "cell_type": "code",
      "metadata": {
        "id": "bk7nEWMtajRJ"
      },
      "source": [
        "num_periods = 67\n",
        "ts = pd.Series(np.random.random(num_periods),\n",
        "               index=pd.date_range('2000-01', \n",
        "                                   periods=num_periods, \n",
        "                                   freq='W'))\n",
        "ts"
      ],
      "execution_count": null,
      "outputs": []
    },
    {
      "cell_type": "markdown",
      "metadata": {
        "id": "_D3w16erajRJ"
      },
      "source": [
        "Create a Pandas DataFrame where the index is the time component:"
      ]
    },
    {
      "cell_type": "code",
      "metadata": {
        "id": "aGxfUqY1ajRJ"
      },
      "source": [
        "num_periods = 2500\n",
        "df = pd.DataFrame(dict(X = np.random.random(num_periods), \n",
        "                       Y = -5+np.random.random(num_periods)),\n",
        "                  index=pd.date_range('2000', \n",
        "                                      periods=num_periods, \n",
        "                                      freq='D'))\n",
        "df"
      ],
      "execution_count": null,
      "outputs": []
    },
    {
      "cell_type": "markdown",
      "metadata": {
        "id": "EtOe9j_kajRK"
      },
      "source": [
        "**Resampling**\n",
        "- The `resample()` function is used to resample time-series data.\n",
        "- It groups data by a certain time span. \n",
        "- You specify a method of how you would like to resample.\n",
        "- Pandas comes with many in-built options for resampling, and you can even define your own methods.\n",
        "\n",
        "Here are some time period options:\n",
        "\n",
        "| Alias | Description |\n",
        "| --- | --- |\n",
        "| 'D' |\tCalendar day |\n",
        "| 'W' |\tWeekly |\n",
        "| 'M' |\tMonth end |\n",
        "| 'Q' |\tQuarter end |\n",
        "| 'A' |\tYear end |\n",
        "\n",
        "Here are some method options for resampling:\n",
        "\n",
        "| Method | Description |\n",
        "| --- | --- |\n",
        "| max |\tMaximum value |\n",
        "| mean |\tMean of values in time range |\n",
        "| median |\tMedian of values in time range |\n",
        "| min |\tMinimum data value |\n",
        "| sum |\tSum of values |"
      ]
    },
    {
      "cell_type": "code",
      "metadata": {
        "id": "rh39Sc5-ajRK"
      },
      "source": [
        "df.X.resample('Y').mean()"
      ],
      "execution_count": null,
      "outputs": []
    },
    {
      "cell_type": "code",
      "metadata": {
        "id": "Pcu8Yf8hajRK"
      },
      "source": [
        "df.Y.resample('W').sum()"
      ],
      "execution_count": null,
      "outputs": []
    },
    {
      "cell_type": "code",
      "metadata": {
        "id": "F9yD2e05ajRK"
      },
      "source": [
        "df.X.resample('Q').median()"
      ],
      "execution_count": null,
      "outputs": []
    },
    {
      "cell_type": "markdown",
      "metadata": {
        "id": "AjIj6RtyajRK"
      },
      "source": [
        "# <font color=\"red\">Applications</font>"
      ]
    },
    {
      "cell_type": "markdown",
      "metadata": {
        "id": "7KYrJkaDajRK"
      },
      "source": [
        "## <font color=\"blue\"> Report on UFO Sightings</font>"
      ]
    },
    {
      "cell_type": "code",
      "metadata": {
        "id": "KeOhX0IlajRK"
      },
      "source": [
        "url = 'http://bit.ly/uforeports'\n",
        "df_ufo = pd.read_csv(url)            \n",
        "df_ufo "
      ],
      "execution_count": null,
      "outputs": []
    },
    {
      "cell_type": "markdown",
      "metadata": {
        "id": "lrKVdYrgajRK"
      },
      "source": [
        "Convert the Time column to datetime format:"
      ]
    },
    {
      "cell_type": "code",
      "metadata": {
        "id": "f_VdJKE5ajRK"
      },
      "source": [
        "df_ufo['Time'] = pd.to_datetime(df_ufo.Time)\n",
        "df_ufo"
      ],
      "execution_count": null,
      "outputs": []
    },
    {
      "cell_type": "markdown",
      "metadata": {
        "id": "I9A1M7A1ajRK"
      },
      "source": [
        "Rename the column to Date:"
      ]
    },
    {
      "cell_type": "code",
      "metadata": {
        "id": "GQVjVkZoajRK"
      },
      "source": [
        "df_ufo.rename(columns={'Time':'Date'}, inplace=True)\n",
        "df_ufo"
      ],
      "execution_count": null,
      "outputs": []
    },
    {
      "cell_type": "markdown",
      "metadata": {
        "id": "-dv7vPOWajRL"
      },
      "source": [
        "Move the Date column as the dataframe index:"
      ]
    },
    {
      "cell_type": "code",
      "metadata": {
        "id": "jANgH6h9ajRL"
      },
      "source": [
        "df_ufo = df_ufo.set_index(['Date'])\n",
        "df_ufo"
      ],
      "execution_count": null,
      "outputs": []
    },
    {
      "cell_type": "markdown",
      "metadata": {
        "id": "pUGVIBdsajRL"
      },
      "source": [
        "**Question 1**: How to determine the number of sightings between two dates?"
      ]
    },
    {
      "cell_type": "code",
      "metadata": {
        "id": "Pi6wlkVfajRL"
      },
      "source": [
        "df1 = df_ufo.loc['1978-01-01 09:00:00':'1980-01-01 11:00:00']\n",
        "df1"
      ],
      "execution_count": null,
      "outputs": []
    },
    {
      "cell_type": "markdown",
      "metadata": {
        "id": "dEUCEat0ajRL"
      },
      "source": [
        "**Question 2**: How to extract the sightings at a specific month?"
      ]
    },
    {
      "cell_type": "code",
      "metadata": {
        "id": "FWywfTCPajRL"
      },
      "source": [
        "df2 = df_ufo[df_ufo.index.month == 2]\n",
        "df2"
      ],
      "execution_count": null,
      "outputs": []
    },
    {
      "cell_type": "markdown",
      "metadata": {
        "id": "-1dZ5RRnajRL"
      },
      "source": [
        "**Question 3**: How to extract the sightings in a given State?"
      ]
    },
    {
      "cell_type": "code",
      "metadata": {
        "id": "vweO1C0kajRL"
      },
      "source": [
        "df3 = df_ufo[df_ufo['State']== 'CA']\n",
        "df3"
      ],
      "execution_count": null,
      "outputs": []
    },
    {
      "cell_type": "markdown",
      "metadata": {
        "id": "7PX8TI6CajRL"
      },
      "source": [
        "**Question 4**: How to count the number of sightings in each state?"
      ]
    },
    {
      "cell_type": "code",
      "metadata": {
        "id": "aUida7RyajRL"
      },
      "source": [
        "df_ufo.groupby(['State']).count()"
      ],
      "execution_count": null,
      "outputs": []
    },
    {
      "cell_type": "markdown",
      "metadata": {
        "id": "DhzSuhMgajRM"
      },
      "source": [
        "## <font color=\"blue\">Population Data</font>\n",
        "\n",
        "### Using the `groupby` Function and Related Functions to Aggregate"
      ]
    },
    {
      "cell_type": "markdown",
      "metadata": {
        "id": "DzW7LJY5ajRM"
      },
      "source": [
        "Read data from url as pandas dataframe:"
      ]
    },
    {
      "cell_type": "code",
      "metadata": {
        "id": "YA-UQBeTajRM"
      },
      "source": [
        "pop_url = 'http://bit.ly/2cLzoxH'\n",
        "\n",
        "pop_data = pd.read_csv(pop_url)\n",
        "pop_data"
      ],
      "execution_count": null,
      "outputs": []
    },
    {
      "cell_type": "markdown",
      "metadata": {
        "id": "stSs50zuajRM"
      },
      "source": [
        "Convert the `year` values as datetime objects and make the `year` as index:"
      ]
    },
    {
      "cell_type": "code",
      "metadata": {
        "id": "CFHjRHuvajRM"
      },
      "source": [
        "pop_data['year'] = pd.to_datetime(pop_data.year, format=\"%Y\")\n",
        "pop_data.rename(columns={'year':'Year'}, inplace=True)\n",
        "pop_data = pop_data.set_index(['Year'])\n",
        "pop_data"
      ],
      "execution_count": null,
      "outputs": []
    },
    {
      "cell_type": "markdown",
      "metadata": {
        "id": "UL3enMN_ajRM"
      },
      "source": [
        "We want to create a new dataframe by selecting the `continent` and `pop` columns only:"
      ]
    },
    {
      "cell_type": "code",
      "metadata": {
        "id": "AJmrcr7-ajRM"
      },
      "source": [
        "continent_pop = pop_data[['continent', 'pop']]\n",
        "continent_pop"
      ],
      "execution_count": null,
      "outputs": []
    },
    {
      "cell_type": "markdown",
      "metadata": {
        "id": "ynyvG_1vajRM"
      },
      "source": [
        "### Pandas `groupby()` Function\n",
        "\n",
        "- It is used to group rows that have the smae values.\n",
        "- It is used with **aggregate functions** (`count`, `sum`, `min`, `max`, `mean`) to get the statistics based on one or more column values.\n",
        "- It is also called **Split-Apply-Combine** process:\n",
        "    - The `groupby()` function splits the data into groups based on some criteria.\n",
        "    - The aggregate function is applied to each of the groups.\n",
        "    - The groups are combined together to create a new DataFrame."
      ]
    },
    {
      "cell_type": "code",
      "metadata": {
        "id": "d-XjIkhkajRM"
      },
      "source": [
        "grouped_pop = continent_pop.groupby(\"continent\")\n",
        "grouped_pop"
      ],
      "execution_count": null,
      "outputs": []
    },
    {
      "cell_type": "markdown",
      "metadata": {
        "id": "TQH77uIcajRM"
      },
      "source": [
        "How could then print the new DataFrame?"
      ]
    },
    {
      "cell_type": "code",
      "metadata": {
        "id": "Q71OrGUFajRM"
      },
      "source": [
        "grouped_pop.head()"
      ],
      "execution_count": null,
      "outputs": []
    },
    {
      "cell_type": "markdown",
      "metadata": {
        "id": "CTpZYm3YajRM"
      },
      "source": [
        "Obtain statistical description:"
      ]
    },
    {
      "cell_type": "code",
      "metadata": {
        "id": "1s0NOSgYajRM"
      },
      "source": [
        "grouped_pop.describe()"
      ],
      "execution_count": null,
      "outputs": []
    },
    {
      "cell_type": "markdown",
      "metadata": {
        "id": "mHlKKjNdajRM"
      },
      "source": [
        "**Iterating through Groups**"
      ]
    },
    {
      "cell_type": "code",
      "metadata": {
        "id": "s8bS7sMWajRN"
      },
      "source": [
        "for key, item in grouped_pop:\n",
        "    print(key)\n",
        "    print(item)"
      ],
      "execution_count": null,
      "outputs": []
    },
    {
      "cell_type": "markdown",
      "metadata": {
        "id": "wZMvl3r9ajRN"
      },
      "source": [
        "#### Selecting a Group\n",
        "\n",
        "A single group can be selected using `get_group()`:"
      ]
    },
    {
      "cell_type": "code",
      "metadata": {
        "id": "A9lyDJrXajRN"
      },
      "source": [
        "grouped_pop.get_group('Oceania')"
      ],
      "execution_count": null,
      "outputs": []
    },
    {
      "cell_type": "markdown",
      "metadata": {
        "id": "CTQKtZS4ajRN"
      },
      "source": [
        "#### Functions To Aggregate"
      ]
    },
    {
      "cell_type": "markdown",
      "metadata": {
        "id": "krjI9X3DajRN"
      },
      "source": [
        "**`mean()`** computes mean values for each group:"
      ]
    },
    {
      "cell_type": "code",
      "metadata": {
        "id": "LxvFuN7iajRN"
      },
      "source": [
        "grouped_pop.aggregate(np.mean)"
      ],
      "execution_count": null,
      "outputs": []
    },
    {
      "cell_type": "code",
      "metadata": {
        "id": "thzNHRbpajRN"
      },
      "source": [
        "grouped_pop.mean()"
      ],
      "execution_count": null,
      "outputs": []
    },
    {
      "cell_type": "markdown",
      "metadata": {
        "id": "QAB1I3vQajRN"
      },
      "source": [
        "**`sum()`** adds of values within each group."
      ]
    },
    {
      "cell_type": "code",
      "metadata": {
        "id": "Td3o7gPlajRN"
      },
      "source": [
        "grouped_pop.aggregate(np.sum)"
      ],
      "execution_count": null,
      "outputs": []
    },
    {
      "cell_type": "code",
      "metadata": {
        "id": "p2-798c1ajRN"
      },
      "source": [
        "grouped_pop.sum()"
      ],
      "execution_count": null,
      "outputs": []
    },
    {
      "cell_type": "markdown",
      "metadata": {
        "id": "fD69Wx6WajRN"
      },
      "source": [
        "**`size()`** computes the size per each group."
      ]
    },
    {
      "cell_type": "code",
      "metadata": {
        "id": "FiVRSpi7ajRN"
      },
      "source": [
        "grouped_pop.aggregate(np.size)"
      ],
      "execution_count": null,
      "outputs": []
    },
    {
      "cell_type": "code",
      "metadata": {
        "id": "TOMmGiWRajRN"
      },
      "source": [
        "grouped_pop.size()"
      ],
      "execution_count": null,
      "outputs": []
    },
    {
      "cell_type": "markdown",
      "metadata": {
        "id": "DErg7jnCajRN"
      },
      "source": [
        "For each group, you can similarly use:\n",
        "    \n",
        "- `count()`: computes the number of values.\n",
        "- `max()`: gets maximum value.\n",
        "- `min()`: gets minimum value.\n",
        "- `std()`: computes standard deviation of the values.\n",
        "- `var()`: computes variance, an estimate of variability.\n",
        "- `sem()`: computes standard error of the mean values."
      ]
    },
    {
      "cell_type": "markdown",
      "metadata": {
        "id": "9-3NMbIrajRN"
      },
      "source": [
        "**Applying several functions at once**"
      ]
    },
    {
      "cell_type": "code",
      "metadata": {
        "id": "zk6RYtlbajRO"
      },
      "source": [
        "grouped_pop.agg([np.sum, np.mean, np.std])"
      ],
      "execution_count": null,
      "outputs": []
    },
    {
      "cell_type": "markdown",
      "metadata": {
        "id": "KZ2ziufDajRO"
      },
      "source": [
        "**`describe()`** computes a quick summary of values per group"
      ]
    },
    {
      "cell_type": "code",
      "metadata": {
        "id": "5K4Y_l1tajRO"
      },
      "source": [
        "grouped_pop.describe()"
      ],
      "execution_count": null,
      "outputs": []
    },
    {
      "cell_type": "markdown",
      "metadata": {
        "id": "l815HJB3ajRO"
      },
      "source": [
        "**`first()`** gets the first row value within each group."
      ]
    },
    {
      "cell_type": "code",
      "metadata": {
        "id": "mN-aSx4DajRO"
      },
      "source": [
        "grouped_pop.first()"
      ],
      "execution_count": null,
      "outputs": []
    },
    {
      "cell_type": "markdown",
      "metadata": {
        "id": "41P2JpsoajRO"
      },
      "source": [
        "**`last()`** gets the last row value within each group."
      ]
    },
    {
      "cell_type": "code",
      "metadata": {
        "id": "fa_LKRQBajRO"
      },
      "source": [
        "grouped_pop.last()"
      ],
      "execution_count": null,
      "outputs": []
    },
    {
      "cell_type": "markdown",
      "metadata": {
        "id": "6QNsQCPVajRO"
      },
      "source": [
        "**`nth()`** gives nth value, in each group."
      ]
    },
    {
      "cell_type": "code",
      "metadata": {
        "id": "u-gN-xI0ajRO"
      },
      "source": [
        "grouped_pop.nth(8)"
      ],
      "execution_count": null,
      "outputs": []
    },
    {
      "cell_type": "markdown",
      "metadata": {
        "id": "gNLZUowcajRO"
      },
      "source": [
        "## <font color=\"blue\">AERONET Observations at Goddard</font>\n",
        "\n",
        "![fig_aeronet](https://www.nasa.gov/images/content/363322main_bamgomas_maps.jpg)\n",
        "Image Source: NASA\n",
        "\n",
        "- [AERONET](https://aeronet.gsfc.nasa.gov/) (AErosol RObotic NETwork) is a globally distributed network of identical robotically controlled ground-based sun/sky scanning radiometers. \n",
        "- Each instrument measures the intensity of sun and sky light throughout daylight hours from the ultraviolet through the near-infrared. \n",
        "- The program provides a longterm, continuous, and accessible public domain database of aerosol optical, microphysical, and radiative properties for aerosol research including, aerosol characterization, validation of satellite retrievals and model predictions, and synergism with other databases.\n",
        "- Here are some Science benefits of AERONET:\n",
        "     - AERONET measurements are used to validate and advance algorithm development of satellite retrievals of aerosols.\n",
        "     - Aerosol transport models use aerosol data from AERONET to validate and improve model algorithms.\n",
        "     - Aerosol assimilation models as well as weather prediction models use real time AERONET data to improve predictions.\n",
        "     - Long-term commitment to AERONET sites worldwide provides assessment of the regional climatological impact of aerosols (e.g., aerosol amount, size, and heating or cooling effects).\n",
        "- Over 840 stations worldwide.\n",
        "- Here, we analyze the measurements (Aerosol Optical Depth (AOD)) at the [NASA GSFC](https://aeronet.gsfc.nasa.gov/new_web/photo_db_v3/GSFC.html) site."
      ]
    },
    {
      "cell_type": "code",
      "metadata": {
        "id": "xL7j7sdYajRO"
      },
      "source": [
        "url = \"https://raw.githubusercontent.com/astg606/py_materials/master/aeronet/\"\n",
        "filename = url+\"19930101_20210102_GSFC.lev20\""
      ],
      "execution_count": null,
      "outputs": []
    },
    {
      "cell_type": "code",
      "metadata": {
        "id": "vPKyJQRSajRO"
      },
      "source": [
        "dateparse = lambda x: datetime.datetime.strptime(x, '%d:%m:%Y %H:%M:%S')\n",
        "df = pd.read_csv(filename, skiprows=6, na_values=-999,\n",
        "                 parse_dates={'datetime': [0, 1]}, \n",
        "                 date_parser=dateparse, index_col=0, \n",
        "                 squeeze=True)"
      ],
      "execution_count": null,
      "outputs": []
    },
    {
      "cell_type": "code",
      "metadata": {
        "id": "L4n6-idGajRP"
      },
      "source": [
        "df"
      ],
      "execution_count": null,
      "outputs": []
    },
    {
      "cell_type": "code",
      "metadata": {
        "id": "DqvfMDTQajRP"
      },
      "source": [
        "df.columns"
      ],
      "execution_count": null,
      "outputs": []
    },
    {
      "cell_type": "code",
      "metadata": {
        "id": "q6huMonVajRP"
      },
      "source": [
        "df.describe()"
      ],
      "execution_count": null,
      "outputs": []
    },
    {
      "cell_type": "markdown",
      "metadata": {
        "id": "7WnCRUJOajRP"
      },
      "source": [
        "**Renaming of the Columns of Interest**"
      ]
    },
    {
      "cell_type": "code",
      "metadata": {
        "id": "eVQg7_LbajRP"
      },
      "source": [
        "old_cols = ['Day_of_Year', 'AOD_675nm', 'AOD_440nm', \n",
        "            '440-675_Angstrom_Exponent']\n",
        "\n",
        "new_cols = ['DoY', 'A675', 'A440', 'Alpha']"
      ],
      "execution_count": null,
      "outputs": []
    },
    {
      "cell_type": "code",
      "metadata": {
        "id": "FRBZx5oUajRP"
      },
      "source": [
        "df_GSFC = df[old_cols]\n",
        "df_GSFC.columns = new_cols"
      ],
      "execution_count": null,
      "outputs": []
    },
    {
      "cell_type": "code",
      "metadata": {
        "id": "r86I3FncajRP"
      },
      "source": [
        "df_GSFC"
      ],
      "execution_count": null,
      "outputs": []
    },
    {
      "cell_type": "markdown",
      "metadata": {
        "id": "pfHsVaNPajRP"
      },
      "source": [
        "**Plotting**"
      ]
    },
    {
      "cell_type": "code",
      "metadata": {
        "id": "PDO098NIajRP"
      },
      "source": [
        "df_GSFC[\"A675\"].plot()"
      ],
      "execution_count": null,
      "outputs": []
    },
    {
      "cell_type": "code",
      "metadata": {
        "id": "H9dwF1pNajRP"
      },
      "source": [
        "df_GSFC[\"A675\"].plot()"
      ],
      "execution_count": null,
      "outputs": []
    },
    {
      "cell_type": "code",
      "metadata": {
        "id": "t2VgKlq4ajRQ"
      },
      "source": [
        "df_GSFC[[\"A675\", \"A440\"]].plot()"
      ],
      "execution_count": null,
      "outputs": []
    },
    {
      "cell_type": "code",
      "metadata": {
        "id": "C5ynBxa8ajRQ"
      },
      "source": [
        "df_GSFC[[\"A675\", \"A440\"]].plot(subplots='True')"
      ],
      "execution_count": null,
      "outputs": []
    },
    {
      "cell_type": "code",
      "metadata": {
        "id": "EPQ0zv0IajRQ"
      },
      "source": [
        "df_GSFC.plot(kind='scatter', x=\"A675\", y=\"A440\");"
      ],
      "execution_count": null,
      "outputs": []
    },
    {
      "cell_type": "markdown",
      "metadata": {
        "id": "I1-LL385ajRQ"
      },
      "source": [
        "**Perform Calculations**\n",
        "\n",
        "We create a new column that is a combination of other columns."
      ]
    },
    {
      "cell_type": "code",
      "metadata": {
        "id": "BY7tuwGgajRQ"
      },
      "source": [
        "df_GSFC['A550'] = df_GSFC['A675']*((675.0/550.0))**df_GSFC['Alpha']"
      ],
      "execution_count": null,
      "outputs": []
    },
    {
      "cell_type": "code",
      "metadata": {
        "id": "YBicQ9LRajRQ"
      },
      "source": [
        "df_GSFC"
      ],
      "execution_count": null,
      "outputs": []
    },
    {
      "cell_type": "markdown",
      "metadata": {
        "id": "QFv1aHNyajRQ"
      },
      "source": [
        "The above is used to compare model simulation with AERONET observations."
      ]
    },
    {
      "cell_type": "markdown",
      "metadata": {
        "id": "gf8w19D9ajRQ"
      },
      "source": [
        "**Zoom in on a Specific Year**"
      ]
    },
    {
      "cell_type": "code",
      "metadata": {
        "id": "szX2djIrajRQ"
      },
      "source": [
        "df_GSFC_2010 = df_GSFC[df_GSFC.index.year == 2010]\n",
        "df_GSFC_2010"
      ],
      "execution_count": null,
      "outputs": []
    },
    {
      "cell_type": "code",
      "metadata": {
        "id": "Pn9oKwjrajRQ"
      },
      "source": [
        "ax = df_GSFC_2010.plot(x=\"DoY\", y=\"A550\", color=\"green\",\n",
        "                       title=\"2010 AERONET at GSFC\")\n",
        "ax.set_xlabel(\"Day of Year\")\n",
        "ax.set_ylabel(\"Aerosol Optical Depth\")"
      ],
      "execution_count": null,
      "outputs": []
    },
    {
      "cell_type": "markdown",
      "metadata": {
        "id": "VT6Hurv5ajRQ"
      },
      "source": [
        "## <font color=\"blue\">Weather Data</font>\n",
        "\n",
        "<center>https://www.wunderground.com/cgi-bin/findweather/getForecast?query=KDAA</center>"
      ]
    },
    {
      "cell_type": "markdown",
      "metadata": {
        "id": "r1JIpnxSajRR"
      },
      "source": [
        "#### Pandas <font color='red'>read_csv</font>"
      ]
    },
    {
      "cell_type": "code",
      "metadata": {
        "id": "TpZbKI7CajRR"
      },
      "source": [
        "url = \"https://raw.githubusercontent.com/astg606/py_materials/master/pandas/data/weather/\"\n",
        "filename = \"hampton_10-10-15_10-10-16.csv\"\n",
        "weather_data = pd.read_csv(url+filename)"
      ],
      "execution_count": null,
      "outputs": []
    },
    {
      "cell_type": "markdown",
      "metadata": {
        "id": "FKR5MRreajRR"
      },
      "source": [
        "Print the data as a table:"
      ]
    },
    {
      "cell_type": "code",
      "metadata": {
        "id": "ViA6opSrajRR"
      },
      "source": [
        "weather_data"
      ],
      "execution_count": null,
      "outputs": []
    },
    {
      "cell_type": "markdown",
      "metadata": {
        "id": "YX1piyCzajRR"
      },
      "source": [
        "Print the column labels:"
      ]
    },
    {
      "cell_type": "code",
      "metadata": {
        "id": "LtoCil1majRR"
      },
      "source": [
        "weather_data.columns"
      ],
      "execution_count": null,
      "outputs": []
    },
    {
      "cell_type": "markdown",
      "metadata": {
        "id": "zq7CWdc7ajRR"
      },
      "source": [
        "Get basic information on the data:"
      ]
    },
    {
      "cell_type": "code",
      "metadata": {
        "id": "Oy6JPf3majRR"
      },
      "source": [
        "weather_data.info()"
      ],
      "execution_count": null,
      "outputs": []
    },
    {
      "cell_type": "markdown",
      "metadata": {
        "id": "83VDwDiHajRR"
      },
      "source": [
        "Print statistical information:"
      ]
    },
    {
      "cell_type": "code",
      "metadata": {
        "id": "nHEVhzCUajRR"
      },
      "source": [
        "weather_data.describe()"
      ],
      "execution_count": null,
      "outputs": []
    },
    {
      "cell_type": "markdown",
      "metadata": {
        "id": "8Q3DCwhUajRR"
      },
      "source": [
        "Access values of a column like in a dictionary:"
      ]
    },
    {
      "cell_type": "code",
      "metadata": {
        "scrolled": true,
        "id": "JoDkCoufajRR"
      },
      "source": [
        "weather_data[\"Max TemperatureF\"]"
      ],
      "execution_count": null,
      "outputs": []
    },
    {
      "cell_type": "code",
      "metadata": {
        "id": "UYqNeBXzajRR"
      },
      "source": [
        "weather_data[\"EDT\"]"
      ],
      "execution_count": null,
      "outputs": []
    },
    {
      "cell_type": "markdown",
      "metadata": {
        "id": "zBDteHdnajRS"
      },
      "source": [
        "You can get the column index first and the values:"
      ]
    },
    {
      "cell_type": "code",
      "metadata": {
        "id": "oKwxbw6vajRS"
      },
      "source": [
        "my_col = weather_data.columns.get_loc(\"Max TemperatureF\")\n",
        "weather_data.iloc[:,my_col]"
      ],
      "execution_count": null,
      "outputs": []
    },
    {
      "cell_type": "markdown",
      "metadata": {
        "id": "mg6mYtaoajRS"
      },
      "source": [
        "You can also use the loc method:"
      ]
    },
    {
      "cell_type": "code",
      "metadata": {
        "id": "vI2WFHJJajRS"
      },
      "source": [
        "weather_data.loc[:,\"Max TemperatureF\"]"
      ],
      "execution_count": null,
      "outputs": []
    },
    {
      "cell_type": "markdown",
      "metadata": {
        "id": "BgvR3QDSajRS"
      },
      "source": [
        "Access column data like a \"method\" is nicer because you can autocomplete:"
      ]
    },
    {
      "cell_type": "code",
      "metadata": {
        "id": "3fn69bUPajRS"
      },
      "source": [
        "weather_data.EDT  "
      ],
      "execution_count": null,
      "outputs": []
    },
    {
      "cell_type": "markdown",
      "metadata": {
        "id": "CsydduWEajRS"
      },
      "source": [
        "You can elect multiple columns:"
      ]
    },
    {
      "cell_type": "code",
      "metadata": {
        "id": "5dZrlooaajRS"
      },
      "source": [
        "weather_data[[\"EDT\", \"Mean TemperatureF\"]]"
      ],
      "execution_count": null,
      "outputs": []
    },
    {
      "cell_type": "markdown",
      "metadata": {
        "id": "k6Cz3SqaajRS"
      },
      "source": [
        "You can also pass an argument:"
      ]
    },
    {
      "cell_type": "code",
      "metadata": {
        "id": "MGikFBy4ajRS"
      },
      "source": [
        "weather_data.EDT.head() "
      ],
      "execution_count": null,
      "outputs": []
    },
    {
      "cell_type": "code",
      "metadata": {
        "id": "cCUh-5m0ajRS"
      },
      "source": [
        "weather_data[\"Mean TemperatureF\"].head()"
      ],
      "execution_count": null,
      "outputs": []
    },
    {
      "cell_type": "markdown",
      "metadata": {
        "id": "B4jWvAHUajRS"
      },
      "source": [
        "#### Rename columns\n",
        "\n",
        "Assign a new list of column names to the columns property of the DataFrame."
      ]
    },
    {
      "cell_type": "code",
      "metadata": {
        "id": "dmxOB2AvajRS"
      },
      "source": [
        "weather_data.columns = [\"date\", \"max_temp\", \"mean_temp\", \"min_temp\", \"max_dew\",\n",
        "                \"mean_dew\", \"min_dew\", \"max_humidity\", \"mean_humidity\",\n",
        "                \"min_humidity\", \"max_pressure\", \"mean_pressure\",\n",
        "                \"min_pressure\", \"max_visibilty\", \"mean_visibility\",\n",
        "                \"min_visibility\", \"max_wind\", \"mean_wind\", \"min_wind\",\n",
        "                \"precipitation\", \"cloud_cover\", \"events\", \"wind_dir\"]"
      ],
      "execution_count": null,
      "outputs": []
    },
    {
      "cell_type": "code",
      "metadata": {
        "id": "5P-m9-xcajRS"
      },
      "source": [
        "weather_data"
      ],
      "execution_count": null,
      "outputs": []
    },
    {
      "cell_type": "markdown",
      "metadata": {
        "id": "m14Eh1C0ajRS"
      },
      "source": [
        "Now, we can use `.` dot: "
      ]
    },
    {
      "cell_type": "code",
      "metadata": {
        "id": "9_rsrX6zajRT"
      },
      "source": [
        "weather_data.mean_temp.head()"
      ],
      "execution_count": null,
      "outputs": []
    },
    {
      "cell_type": "code",
      "metadata": {
        "id": "u-kh8N_-ajRT"
      },
      "source": [
        "weather_data.mean_temp.std()"
      ],
      "execution_count": null,
      "outputs": []
    },
    {
      "cell_type": "code",
      "metadata": {
        "id": "s1Idv-9RajRT"
      },
      "source": [
        "weather_data.mean_temp.mean()"
      ],
      "execution_count": null,
      "outputs": []
    },
    {
      "cell_type": "markdown",
      "metadata": {
        "id": "2zsejnS4ajRT"
      },
      "source": [
        "### Visualization"
      ]
    },
    {
      "cell_type": "code",
      "metadata": {
        "scrolled": true,
        "id": "z3tL8HbfajRT"
      },
      "source": [
        "weather_data.mean_temp.plot();"
      ],
      "execution_count": null,
      "outputs": []
    },
    {
      "cell_type": "code",
      "metadata": {
        "scrolled": true,
        "id": "eJqxUN_kajRT"
      },
      "source": [
        "weather_data[['max_temp','min_temp']].plot(subplots=False);"
      ],
      "execution_count": null,
      "outputs": []
    },
    {
      "cell_type": "code",
      "metadata": {
        "id": "z3CDot5ZajRT"
      },
      "source": [
        "new_weather_data = weather_data[['max_temp','min_temp']]\n",
        "new_weather_data.plot(subplots=True);"
      ],
      "execution_count": null,
      "outputs": []
    },
    {
      "cell_type": "markdown",
      "metadata": {
        "id": "vLYaETZuajRT"
      },
      "source": [
        "We can specify column labels in the loc method to retrieve columns by label instead of by position:"
      ]
    },
    {
      "cell_type": "code",
      "metadata": {
        "id": "akj1N1i3ajRT"
      },
      "source": [
        "new_weather_data = weather_data.loc[50:125,['max_temp','min_temp']]\n",
        "new_weather_data.plot(subplots=True);"
      ],
      "execution_count": null,
      "outputs": []
    },
    {
      "cell_type": "markdown",
      "metadata": {
        "id": "_t0i_8XsajRT"
      },
      "source": [
        "The <font color='red'>plot()</font> function returns a matplotlib <font color='red'>AxesSubPlot</font> object. You can pass this object into subsequent calls to plot() in order to compose plots."
      ]
    },
    {
      "cell_type": "code",
      "metadata": {
        "scrolled": true,
        "id": "8TJIRQOzajRT"
      },
      "source": [
        "ax = weather_data.max_temp.plot(title=\"Min and Max Temperatures\", \n",
        "                                figsize=(12,6));\n",
        "weather_data.min_temp.plot(style=\"red\", ax=ax);\n",
        "ax.set_ylabel(\"Temperature (F)\");"
      ],
      "execution_count": null,
      "outputs": []
    },
    {
      "cell_type": "markdown",
      "metadata": {
        "id": "ougbfHzHajRU"
      },
      "source": [
        "Perform scatter plot:"
      ]
    },
    {
      "cell_type": "code",
      "metadata": {
        "id": "l0dVnSDxajRU"
      },
      "source": [
        "new_weather_data.plot(kind='scatter', x='max_temp', y='min_temp');"
      ],
      "execution_count": null,
      "outputs": []
    },
    {
      "cell_type": "markdown",
      "metadata": {
        "id": "diAgGDrnajRU"
      },
      "source": [
        "## <font color=\"blue\">Climate data</font>\n",
        "\n",
        "### <center>Global Surface Temperature Change based on Land and Ocean Data</center>\n",
        "<center>Reference http://pubs.giss.nasa.gov/docs/2010/2010_Hansen_ha00510u.pdf</center>"
      ]
    },
    {
      "cell_type": "markdown",
      "metadata": {
        "id": "GQqM8M1FajRU"
      },
      "source": [
        "#### Pandas  <font color='red'>read_table</font>"
      ]
    },
    {
      "cell_type": "code",
      "metadata": {
        "id": "Ub-lO3odajRU"
      },
      "source": [
        "url = \"https://raw.githubusercontent.com/astg606/py_materials/master/pandas/data/temperatures/\"\n",
        "filename = \"annual.land_ocean.90S.90N.df_1880-2016mean.dat\"\n",
        "tsurf = pd.read_table(url+filename)\n",
        "print(type(tsurf))"
      ],
      "execution_count": null,
      "outputs": []
    },
    {
      "cell_type": "code",
      "metadata": {
        "id": "hXKx1W0WajRU"
      },
      "source": [
        "print(tsurf)"
      ],
      "execution_count": null,
      "outputs": []
    },
    {
      "cell_type": "markdown",
      "metadata": {
        "id": "ClyyQYUXajRU"
      },
      "source": [
        "There is only 1 column! Let's reformat the data noting that there is a header and values are separated by any number of spaces."
      ]
    },
    {
      "cell_type": "markdown",
      "metadata": {
        "id": "t8N601lsajRU"
      },
      "source": [
        "### Data wrangling"
      ]
    },
    {
      "cell_type": "markdown",
      "metadata": {
        "id": "PdX_RzI1ajRU"
      },
      "source": [
        "> Data Wrangling is the process of converting and mapping data from its raw form to another format with the purpose of making it more valuable and appropriate for advance tasks such as Data Analytics and Machine Learning."
      ]
    },
    {
      "cell_type": "code",
      "metadata": {
        "scrolled": false,
        "id": "dF-nPI7_ajRU"
      },
      "source": [
        "tsurf = pd.read_table(url+filename, skiprows=5, sep=\"\\s+\")\n",
        "tsurf"
      ],
      "execution_count": null,
      "outputs": []
    },
    {
      "cell_type": "markdown",
      "metadata": {
        "id": "SZ0ok_4RajRU"
      },
      "source": [
        "There are columns but the column names are: 1880, -0.20, -0.13"
      ]
    },
    {
      "cell_type": "code",
      "metadata": {
        "id": "KNPJf9GOajRU"
      },
      "source": [
        "tsurf = pd.read_table(url+filename, skiprows=5, sep=\"\\s+\", \\\n",
        "                      names=[\"year\", \"mean_anom\", \"with_smoothing\"])\n",
        "tsurf"
      ],
      "execution_count": null,
      "outputs": []
    },
    {
      "cell_type": "markdown",
      "metadata": {
        "id": "3CMO3cNgajRU"
      },
      "source": [
        "We only have 3 columns, one of which is the year of the record. Let use that as the index using the `index_col` option:"
      ]
    },
    {
      "cell_type": "code",
      "metadata": {
        "id": "jqXRITlyajRV"
      },
      "source": [
        "tsurf = pd.read_table(url+filename, skiprows=5, sep=\"\\s+\", \\\n",
        "                      names=[\"year\", \"mean_anom\", \"with_smoothing\"], \n",
        "                      index_col=0)\n",
        "tsurf"
      ],
      "execution_count": null,
      "outputs": []
    },
    {
      "cell_type": "markdown",
      "metadata": {
        "id": "w0rNy8eyajRV"
      },
      "source": [
        "Furthermore the index is made of dates. Let's make that explicit:"
      ]
    },
    {
      "cell_type": "code",
      "metadata": {
        "id": "WSyJ5SSEajRV"
      },
      "source": [
        "tsurf = pd.read_table(url+filename, skiprows=5, sep=\"\\s+\", \\\n",
        "                      names=[\"year\", \"mean_anom\", \"with_smoothing\"], \n",
        "                      index_col=0, parse_dates=True)\n",
        "tsurf"
      ],
      "execution_count": null,
      "outputs": []
    },
    {
      "cell_type": "markdown",
      "metadata": {
        "id": "TMrvXHDxajRV"
      },
      "source": [
        "### Dealing with missing values"
      ]
    },
    {
      "cell_type": "code",
      "metadata": {
        "id": "156ml_qBajRV"
      },
      "source": [
        "tsurf.tail()"
      ],
      "execution_count": null,
      "outputs": []
    },
    {
      "cell_type": "markdown",
      "metadata": {
        "id": "AWUp7MZ0ajRV"
      },
      "source": [
        "Convert to missing values to `NaN` values:"
      ]
    },
    {
      "cell_type": "code",
      "metadata": {
        "id": "L2fDFQa3ajRV"
      },
      "source": [
        "tsurf[tsurf == -999.000] = np.nan\n",
        "tsurf.tail()"
      ],
      "execution_count": null,
      "outputs": []
    },
    {
      "cell_type": "markdown",
      "metadata": {
        "id": "MYPlh_jCajRV"
      },
      "source": [
        "Remove NaN values:"
      ]
    },
    {
      "cell_type": "code",
      "metadata": {
        "scrolled": true,
        "id": "cECjhqLAajRV"
      },
      "source": [
        "tsurf.dropna().tail()"
      ],
      "execution_count": null,
      "outputs": []
    },
    {
      "cell_type": "markdown",
      "metadata": {
        "id": "zZDnuDWjajRV"
      },
      "source": [
        "### Visualization"
      ]
    },
    {
      "cell_type": "code",
      "metadata": {
        "scrolled": false,
        "id": "NHCC9Cn6ajRV"
      },
      "source": [
        "tsurf.plot()"
      ],
      "execution_count": null,
      "outputs": []
    },
    {
      "cell_type": "code",
      "metadata": {
        "id": "fosyxVj1ajRV"
      },
      "source": [
        "ax = tsurf.mean_anom.plot(style=\"black\", \n",
        "                          title=\"Global Mean Estimates based on Land and Ocean Data\", \n",
        "                          marker='s',\n",
        "                          figsize=(12,6));\n",
        "tsurf.with_smoothing.plot(style=\"red\", ax=ax);\n",
        "ax.set_ylabel(\"Temperature (C)\");"
      ],
      "execution_count": null,
      "outputs": []
    },
    {
      "cell_type": "code",
      "metadata": {
        "id": "nd-zpEM7ajRV"
      },
      "source": [
        "import webbrowser\n",
        "url = 'http://data.giss.nasa.gov/gistemp/graphs/graph_data/Global_Mean_Estimates_based_on_Land_and_Ocean_Data/graph.html'\n",
        "webbrowser.open(url)"
      ],
      "execution_count": null,
      "outputs": []
    },
    {
      "cell_type": "markdown",
      "metadata": {
        "id": "J2zXwTcHajRV"
      },
      "source": [
        "## <font color=\"red\"> Exercise </font>\n",
        "* Read the weather data so that the indices are the dates\n",
        "* Plot the max and min tempatures on the same axes with the dates (ranging from November to March) as x-axis."
      ]
    },
    {
      "cell_type": "code",
      "metadata": {
        "id": "OKfQ97ztajRV"
      },
      "source": [
        "weather_data1 = weather_data\n",
        "weather_data1"
      ],
      "execution_count": null,
      "outputs": []
    },
    {
      "cell_type": "code",
      "metadata": {
        "id": "K0BS6eRvajRW"
      },
      "source": [
        "weather_data1.set_index(\"date\",inplace=True)\n",
        "weather_data1"
      ],
      "execution_count": null,
      "outputs": []
    },
    {
      "cell_type": "code",
      "metadata": {
        "id": "KdNxhmPGajRW"
      },
      "source": [
        "\n",
        "df = weather_data1[(weather_data1.index > '2015-11-01') & \\\n",
        "                   (weather_data1.index <= '2016-03-31')]\n",
        "ax = df.max_temp.plot(title=\"Min and Max Temperatures\", \n",
        "                                figsize=(12,6));\n",
        "df.min_temp.plot(style=\"red\", ax=ax);\n",
        "ax.set_ylabel(\"Temperature (F)\");"
      ],
      "execution_count": null,
      "outputs": []
    },
    {
      "cell_type": "markdown",
      "metadata": {
        "id": "-BnXlcIaajRW"
      },
      "source": [
        "## <font color=\"blue\">Arctic Oscillation and North Atlantic Oscillation  Datasets</font>\n",
        "\n",
        "- The <a href=\"https://en.wikipedia.org/wiki/Arctic_oscillation\">Arctic oscillation (AO)</a> or Northern Annular Mode/Northern Hemisphere Annular Mode (NAM) is a weather phenomenon at the Arctic poles north of 20 degrees latitude. It is an important mode of climate variability for the Northern Hemisphere.\n",
        "- The <a href=\"https://en.wikipedia.org/wiki/North_Atlantic_oscillation\">North Atlantic Oscillation (NAO)</a> is a weather phenomenon in the North Atlantic Ocean of fluctuations in the difference of atmospheric pressure at sea level (SLP) between the Icelandic Low and the Azores High. "
      ]
    },
    {
      "cell_type": "code",
      "metadata": {
        "id": "gCavutuMajRW"
      },
      "source": [
        "ao_url = \"http://www.cpc.ncep.noaa.gov/products/precip/CWlink/daily_ao_index/monthly.ao.index.b50.current.ascii\"\n",
        "nao_url = \"http://www.cpc.ncep.noaa.gov/products/precip/CWlink/pna/norm.nao.monthly.b5001.current.ascii\""
      ],
      "execution_count": null,
      "outputs": []
    },
    {
      "cell_type": "markdown",
      "metadata": {
        "id": "vzWY1WtOajRW"
      },
      "source": [
        "Read the North Atlantic Oscillation (NAO) data as a Pandas dataframe by combining Columns 0 & 1 and parsing it as a single date column."
      ]
    },
    {
      "cell_type": "code",
      "metadata": {
        "id": "EcidTBrpajRW"
      },
      "source": [
        "nao_df = pd.read_table(nao_url, sep='\\s+', \n",
        "                       parse_dates={'dates':[0, 1]}, \n",
        "                       header=None, index_col=0, squeeze=True)\n",
        "nao_df"
      ],
      "execution_count": null,
      "outputs": []
    },
    {
      "cell_type": "markdown",
      "metadata": {
        "id": "kVLqF9OiajRW"
      },
      "source": [
        "Read the Atlantic Oscillation (AO) data as a Pandas dataframe by combining Columns 0 & 1 and parsing it as a single date column."
      ]
    },
    {
      "cell_type": "code",
      "metadata": {
        "id": "knYccBZnajRW"
      },
      "source": [
        "ao_df = pd.read_table(ao_url, sep='\\s+', \n",
        "                      parse_dates={'dates':[0, 1]}, \n",
        "                      header=None, index_col=0, squeeze=True)\n",
        "ao_df"
      ],
      "execution_count": null,
      "outputs": []
    },
    {
      "cell_type": "markdown",
      "metadata": {
        "id": "vgy3uTWPajRW"
      },
      "source": [
        "Create a Pandas DataFrame by combining the two Pandas Series. \n",
        "\n",
        "Note that the frequency of the data is one month (`freq='M'`)."
      ]
    },
    {
      "cell_type": "code",
      "metadata": {
        "id": "C-TChtz4ajRW"
      },
      "source": [
        "aonao_df = pd.DataFrame({'AO':ao_df.to_period(freq='M'), \n",
        "                         'NAO':nao_df.to_period(freq='M')})\n",
        "aonao_df"
      ],
      "execution_count": null,
      "outputs": []
    },
    {
      "cell_type": "code",
      "metadata": {
        "id": "8UD0l5goajRW"
      },
      "source": [
        "aonao_df.NAO.plot();"
      ],
      "execution_count": null,
      "outputs": []
    },
    {
      "cell_type": "code",
      "metadata": {
        "id": "p6Tc4FnkajRW"
      },
      "source": [
        "aonao_df.NAO['2010':'2019'].plot();"
      ],
      "execution_count": null,
      "outputs": []
    },
    {
      "cell_type": "code",
      "metadata": {
        "id": "0HD6Cpa7ajRW"
      },
      "source": [
        "aonao_df.NAO['2010-02':'2010-11'].plot();"
      ],
      "execution_count": null,
      "outputs": []
    },
    {
      "cell_type": "code",
      "metadata": {
        "id": "WtKFK43eajRW"
      },
      "source": [
        "aonao_df.plot(subplots=True);"
      ],
      "execution_count": null,
      "outputs": []
    },
    {
      "cell_type": "code",
      "metadata": {
        "id": "DR_U-ucBajRX"
      },
      "source": [
        "aonao_df.loc[(aonao_df.AO > 0) & (aonao_df.NAO < 0) \n",
        "                               & (aonao_df.index > '2010-01') \n",
        "                               & (aonao_df.index < '2020-01'), 'NAO'].plot(kind='barh');"
      ],
      "execution_count": null,
      "outputs": []
    },
    {
      "cell_type": "markdown",
      "metadata": {
        "id": "Zokl9he1ajRX"
      },
      "source": [
        "#### Resampling\n",
        "\n",
        "- Pandas provide easy way to resample data to different time frequency. \n",
        "- Two main parameters for resampling:\n",
        "     1. Time period you resample to \n",
        "     2. The method that you use. By default the method is mean. \n",
        "     \n",
        "In the example below we calculate the annual mean (\"A\")."
      ]
    },
    {
      "cell_type": "code",
      "metadata": {
        "id": "J0kuWxU6ajRX"
      },
      "source": [
        "aonao_df_mm = aonao_df.resample(\"A\").mean()\n",
        "aonao_df_mm.plot(style='g--', subplots=True);"
      ],
      "execution_count": null,
      "outputs": []
    },
    {
      "cell_type": "code",
      "metadata": {
        "id": "cwetZcMMajRX"
      },
      "source": [
        "aonao_df_mm = aonao_df.resample(\"A\").median()\n",
        "aonao_df_mm.plot(style='g--', subplots=True);"
      ],
      "execution_count": null,
      "outputs": []
    },
    {
      "cell_type": "markdown",
      "metadata": {
        "id": "Dy6qFV0FajRX"
      },
      "source": [
        "You can use your methods for resampling, for example `np.max` (in this case we change resampling frequency to 3 years):"
      ]
    },
    {
      "cell_type": "code",
      "metadata": {
        "id": "4oZ-fFuVajRX"
      },
      "source": [
        "aonao_df_mm = aonao_df.resample(\"3A\").apply(np.max)\n",
        "aonao_df_mm.plot(style='g--', subplots=True);"
      ],
      "execution_count": null,
      "outputs": []
    },
    {
      "cell_type": "markdown",
      "metadata": {
        "id": "FzDQtBB2ajRX"
      },
      "source": [
        "You can specify several functions at once as a list:"
      ]
    },
    {
      "cell_type": "code",
      "metadata": {
        "id": "wcN0njBmajRX"
      },
      "source": [
        "aonao_df_mm = aonao_df.NAO.resample(\"A\").apply(['mean', np.min, np.max])\n",
        "aonao_df_mm['1900':'2020'].plot(subplots=True);"
      ],
      "execution_count": null,
      "outputs": []
    },
    {
      "cell_type": "markdown",
      "metadata": {
        "id": "1dY-vKPQajRX"
      },
      "source": [
        "#### Group By\n",
        "\n",
        "Process that involves one or more of the steps:\n",
        "\n",
        "- Splitting the data into groups based on some criteria.\n",
        "- Applying a function to each group independently.\n",
        "- Combining the results into a data structure.\n",
        "\n",
        "Group by year:"
      ]
    },
    {
      "cell_type": "code",
      "metadata": {
        "id": "msc3vS-3ajRX"
      },
      "source": [
        "aonao_df_gb_year = aonao_df.groupby(by=[aonao_df.index.year]).mean()\n",
        "aonao_df_gb_year"
      ],
      "execution_count": null,
      "outputs": []
    },
    {
      "cell_type": "code",
      "metadata": {
        "id": "QegqP0eEajRX"
      },
      "source": [
        "aonao_df.groupby(pd.Grouper(freq='A')).mean()"
      ],
      "execution_count": null,
      "outputs": []
    },
    {
      "cell_type": "code",
      "metadata": {
        "id": "o6eVVLQvajRX"
      },
      "source": [
        "aonao_df_gb_year.plot()"
      ],
      "execution_count": null,
      "outputs": []
    },
    {
      "cell_type": "markdown",
      "metadata": {
        "id": "zhvPSl5yajRX"
      },
      "source": [
        "Group by month:"
      ]
    },
    {
      "cell_type": "code",
      "metadata": {
        "id": "rgvtWxkZajRY"
      },
      "source": [
        "aonao_df_gb_month = aonao_df.groupby(by=[aonao_df.index.month]).mean()\n",
        "aonao_df_gb_month"
      ],
      "execution_count": null,
      "outputs": []
    },
    {
      "cell_type": "code",
      "metadata": {
        "id": "nIqqP7CzajRY"
      },
      "source": [
        "aonao_df.groupby(pd.Grouper(freq='M')).mean()"
      ],
      "execution_count": null,
      "outputs": []
    },
    {
      "cell_type": "code",
      "metadata": {
        "id": "QaYO2FWLajRY"
      },
      "source": [
        "aonao_df_gb_month.plot(subplots=True)"
      ],
      "execution_count": null,
      "outputs": []
    },
    {
      "cell_type": "markdown",
      "metadata": {
        "id": "fpQggVoqajRY"
      },
      "source": [
        "Quarterly Data:"
      ]
    },
    {
      "cell_type": "code",
      "metadata": {
        "id": "gkPItGtNajRY"
      },
      "source": [
        "aonao_df.groupby(pd.Grouper(freq='Q')).mean()"
      ],
      "execution_count": null,
      "outputs": []
    },
    {
      "cell_type": "markdown",
      "metadata": {
        "id": "GsbxIYKsajRY"
      },
      "source": [
        "## <font color=\"blue\">Web Scraping Sea Level Data</font>\n",
        "\n",
        "The [Permanent Service for Mean Sea Level](http://www.psmsl.org/) (PSMSL) website contains Mean Sea Level (MSL) data from stations around the world. Here we download and parse all tables in a webpage, and again we just give `read_html` the URL to parse:"
      ]
    },
    {
      "cell_type": "markdown",
      "metadata": {
        "id": "xxTxADn3ajRY"
      },
      "source": [
        "#### Pandas  <font color='red'>read_html</font>"
      ]
    },
    {
      "cell_type": "code",
      "metadata": {
        "id": "j0jTPWBoajRY"
      },
      "source": [
        "# Needs `lxml`, `beautifulSoup4` and `html5lib` python packages\n",
        "table_list = pd.read_html(\"http://www.psmsl.org/data/obtaining/\")"
      ],
      "execution_count": null,
      "outputs": []
    },
    {
      "cell_type": "code",
      "metadata": {
        "id": "4_Z76WUVajRY"
      },
      "source": [
        "type(table_list)"
      ],
      "execution_count": null,
      "outputs": []
    },
    {
      "cell_type": "code",
      "metadata": {
        "id": "6ZwEj1XiajRY"
      },
      "source": [
        "len(table_list)"
      ],
      "execution_count": null,
      "outputs": []
    },
    {
      "cell_type": "code",
      "metadata": {
        "id": "0TRB8lTYajRY"
      },
      "source": [
        "table_list[-1]"
      ],
      "execution_count": null,
      "outputs": []
    },
    {
      "cell_type": "markdown",
      "metadata": {
        "id": "5rYIeoitajRY"
      },
      "source": [
        "There is 1 table on that page which contains metadata about the stations where sea levels are recorded:"
      ]
    },
    {
      "cell_type": "code",
      "metadata": {
        "id": "GvHcziUTajRY"
      },
      "source": [
        "local_sea_level_stations = table_list[0]\n",
        "local_sea_level_stations"
      ],
      "execution_count": null,
      "outputs": []
    },
    {
      "cell_type": "markdown",
      "metadata": {
        "id": "4oyUIM1CajRY"
      },
      "source": [
        "That table can be used to search for a station in a region of the world we choose, extract an ID for it and download the corresponding time series with the URL:\n",
        "\n",
        "```python\n",
        "http://www.psmsl.org/data/obtaining/met.monthly.data/< ID >.metdata\n",
        "```"
      ]
    },
    {
      "cell_type": "markdown",
      "metadata": {
        "id": "w0oAkYvgajRY"
      },
      "source": [
        "The datasets that we obtain straight from the reading functions are pretty raw. A lot of pre-processing can be done during data read but we haven't used all the power of the reading functions. "
      ]
    },
    {
      "cell_type": "markdown",
      "metadata": {
        "id": "3a3PedP4ajRY"
      },
      "source": [
        "The columns of the local_sea_level_stations aren't clean. they contain spaces and dots."
      ]
    },
    {
      "cell_type": "code",
      "metadata": {
        "id": "PT0-Oq-DajRZ"
      },
      "source": [
        "local_sea_level_stations.columns"
      ],
      "execution_count": null,
      "outputs": []
    },
    {
      "cell_type": "markdown",
      "metadata": {
        "id": "6L_Sl-LZajRZ"
      },
      "source": [
        "We can clean up by removing the `.` and any white space from column name:"
      ]
    },
    {
      "cell_type": "code",
      "metadata": {
        "id": "x7xxa_pzajRZ"
      },
      "source": [
        "local_sea_level_stations.columns = [name.strip().replace(\".\", \"\") \n",
        "                                    for name in local_sea_level_stations.columns]\n",
        "local_sea_level_stations.columns"
      ],
      "execution_count": null,
      "outputs": []
    },
    {
      "cell_type": "code",
      "metadata": {
        "id": "HoyhSCAzajRZ"
      },
      "source": [
        "local_sea_level_stations.columns = [name.strip().replace(\" \", \"_\") \n",
        "                                    for name in local_sea_level_stations.columns]\n",
        "local_sea_level_stations.columns"
      ],
      "execution_count": null,
      "outputs": []
    },
    {
      "cell_type": "markdown",
      "metadata": {
        "id": "yxBLvPzOajRZ"
      },
      "source": [
        "Let us only consider the latitude, longitude, country and date:"
      ]
    },
    {
      "cell_type": "code",
      "metadata": {
        "id": "DrqkhYfXajRZ"
      },
      "source": [
        "selected_columns = ['ID', 'Lat', 'Lon', 'Country', 'Date']\n",
        "msl_data = local_sea_level_stations[selected_columns]\n",
        "msl_data"
      ],
      "execution_count": null,
      "outputs": []
    },
    {
      "cell_type": "markdown",
      "metadata": {
        "id": "YrlL5RpKajRZ"
      },
      "source": [
        "We can now plot locations of the stations on a map:"
      ]
    },
    {
      "cell_type": "code",
      "metadata": {
        "id": "j21fjk_xajRZ"
      },
      "source": [
        "%matplotlib inline\n",
        "import matplotlib.pyplot as plt\n",
        "import cartopy\n",
        "import cartopy.crs as ccrs\n",
        "import cartopy.feature as cfeature\n",
        "\n",
        "fig = plt.figure(figsize=(12, 9))\n",
        "map_projection = ccrs.PlateCarree()\n",
        "data_transform = ccrs.PlateCarree()\n",
        "\n",
        "ax = plt.axes(projection=map_projection)\n",
        "ax.stock_img()\n",
        "\n",
        "# Plot the selected location \n",
        "plt.plot(msl_data.Lon, msl_data.Lat, 'r*', \n",
        "         transform=data_transform, color=\"purple\", markersize=2)\n",
        "\n",
        "ax.set(title=\"Location of the Lat/Lon of MSL stations\")"
      ],
      "execution_count": null,
      "outputs": []
    },
    {
      "cell_type": "markdown",
      "metadata": {
        "id": "bmeI9DjuajRZ"
      },
      "source": [
        "Change the `Date` as datetime object and move it as index:"
      ]
    },
    {
      "cell_type": "code",
      "metadata": {
        "id": "9K0l4OWsajRZ"
      },
      "source": [
        "msl_data['Date'] = pd.to_datetime(msl_data.Date, format=\"%d/%m/%Y\")\n",
        "msl_data = msl_data.set_index(['Date'])\n",
        "msl_data"
      ],
      "execution_count": null,
      "outputs": []
    },
    {
      "cell_type": "markdown",
      "metadata": {
        "id": "niEzEBMhajRZ"
      },
      "source": [
        "We can now group the measurements by country:"
      ]
    },
    {
      "cell_type": "code",
      "metadata": {
        "id": "nozgEFTRajRZ"
      },
      "source": [
        "grp_msl_data = msl_data.groupby(\"Country\")\n",
        "grp_msl_data"
      ],
      "execution_count": null,
      "outputs": []
    },
    {
      "cell_type": "code",
      "metadata": {
        "id": "Vlu00cs9ajRZ"
      },
      "source": [
        "num_stations = 0\n",
        "for key, item in grp_msl_data:\n",
        "    print(\"Country: {} -- {:>4} Stations\".format(key, len(item)))\n",
        "    num_stations += len(item)\n",
        "    #print(\"{}\".format(item))\n",
        "    #print()\n",
        "    \n",
        "print(\"{} stations in total.\".format(num_stations))"
      ],
      "execution_count": null,
      "outputs": []
    },
    {
      "cell_type": "markdown",
      "metadata": {
        "id": "_Q1ZqbgsajRZ"
      },
      "source": [
        "Select data for USA:"
      ]
    },
    {
      "cell_type": "code",
      "metadata": {
        "id": "JyrcD1JyajRa"
      },
      "source": [
        "msl_usa = grp_msl_data.get_group('USA')\n",
        "msl_usa"
      ],
      "execution_count": null,
      "outputs": []
    },
    {
      "cell_type": "code",
      "metadata": {
        "id": "YwpZTrZbajRa"
      },
      "source": [
        "stationID = msl_usa.ID[-1]"
      ],
      "execution_count": null,
      "outputs": []
    },
    {
      "cell_type": "code",
      "metadata": {
        "id": "O4QC5YaKajRa"
      },
      "source": [
        "from datetime import datetime, timedelta\n",
        "\n",
        "def convert_to_datetime(year_dec):\n",
        "    year_int = int(float(year_dec))\n",
        "    base = datetime(year_int, 1, 1)\n",
        "    rem = float(year_dec) - year_int\n",
        "    result = base + \\\n",
        "             timedelta(seconds=(base.replace(year=base.year + 1) - base).total_seconds() * rem)\n",
        "    #print(result.strftime(\"%Y-%m-%d\"))\n",
        "    return result\n",
        "\n",
        "x = 1985.2917\n",
        "convert_to_datetime(x).strftime(\"%Y-%m-%d\") "
      ],
      "execution_count": null,
      "outputs": []
    },
    {
      "cell_type": "code",
      "metadata": {
        "id": "Znovttm0ajRa"
      },
      "source": [
        "url = f\"https://www.psmsl.org/data/obtaining/met.monthly.data/{stationID}.rlrdata\"\n",
        "print(url)\n",
        "monthly_data = pd.read_csv(url, sep=\";\", \n",
        "                           names=[\"monthly_mean_sl\"],\n",
        "                          parse_dates={'Dates': [0]}, \n",
        "                          date_parser=convert_to_datetime,\n",
        "                           infer_datetime_format=True,\n",
        "                          na_values=-99999, header=None, \n",
        "                          index_col=0, squeeze=True)\n",
        "\n",
        "annual_data"
      ],
      "execution_count": null,
      "outputs": []
    },
    {
      "cell_type": "code",
      "metadata": {
        "id": "G4n6HuIIajRa"
      },
      "source": [
        ""
      ],
      "execution_count": null,
      "outputs": []
    },
    {
      "cell_type": "markdown",
      "metadata": {
        "id": "CMK4nTCUajRa"
      },
      "source": [
        "##  <font color=\"blue\">Global Temperature Climatology</font>"
      ]
    },
    {
      "cell_type": "markdown",
      "metadata": {
        "id": "ZePC4mL4ajRa"
      },
      "source": [
        "Let's load a different file with temperature data. NASA's GISS dataset is written in chunks: look at it in `data/temperatures/GLB.Ts+dSST.txt`"
      ]
    },
    {
      "cell_type": "code",
      "metadata": {
        "id": "hktcO8BVajRa"
      },
      "source": [
        "#!head data/temperatures/GLB.Ts+dSST.txt"
      ],
      "execution_count": null,
      "outputs": []
    },
    {
      "cell_type": "code",
      "metadata": {
        "scrolled": true,
        "id": "m14VpAUEajRa"
      },
      "source": [
        "url = \"https://raw.githubusercontent.com/astg606/py_materials/master/pandas/data/temperatures/\"\n",
        "\n",
        "giss_temp = pd.read_csv(url+\"GLB.Ts+dSST.txt\", \n",
        "                        skiprows=7, \n",
        "                        skipfooter=11, \n",
        "                        sep=\"\\s+\")\n",
        "print(type(giss_temp))\n",
        "giss_temp"
      ],
      "execution_count": null,
      "outputs": []
    },
    {
      "cell_type": "code",
      "metadata": {
        "id": "hlsRZYRhajRa"
      },
      "source": [
        "# Internal nature of the object\n",
        "print(giss_temp.shape)\n",
        "print(giss_temp.dtypes)"
      ],
      "execution_count": null,
      "outputs": []
    },
    {
      "cell_type": "markdown",
      "metadata": {
        "id": "dQEHu9CTajRa"
      },
      "source": [
        "Descriptors for the vertical axis (axis=0)"
      ]
    },
    {
      "cell_type": "code",
      "metadata": {
        "id": "jxQwN0iNajRa"
      },
      "source": [
        "print(giss_temp.index)"
      ],
      "execution_count": null,
      "outputs": []
    },
    {
      "cell_type": "markdown",
      "metadata": {
        "id": "QO0_L3sbajRa"
      },
      "source": [
        "Descriptors for the horizontal axis (axis=1)"
      ]
    },
    {
      "cell_type": "code",
      "metadata": {
        "id": "Oc8YHDjuajRa"
      },
      "source": [
        "giss_temp.columns"
      ],
      "execution_count": null,
      "outputs": []
    },
    {
      "cell_type": "markdown",
      "metadata": {
        "id": "F5nVIUivajRb"
      },
      "source": [
        "#### Recall: every column is a Series"
      ]
    },
    {
      "cell_type": "markdown",
      "metadata": {
        "id": "-uBfK9ihajRb"
      },
      "source": [
        "A lot of information at once including memory usage:"
      ]
    },
    {
      "cell_type": "code",
      "metadata": {
        "id": "ENmgmxopajRb"
      },
      "source": [
        "giss_temp.info()"
      ],
      "execution_count": null,
      "outputs": []
    },
    {
      "cell_type": "markdown",
      "metadata": {
        "id": "h2HVpNo8ajRb"
      },
      "source": [
        "### Setting the index"
      ]
    },
    {
      "cell_type": "code",
      "metadata": {
        "id": "BMeBrMdyajRb"
      },
      "source": [
        "# We didn't set a column number of the index of giss_temp, \n",
        "# we can do that after we have read the data:\n",
        "giss_temp = giss_temp.set_index(\"Year\")\n",
        "giss_temp.head()"
      ],
      "execution_count": null,
      "outputs": []
    },
    {
      "cell_type": "markdown",
      "metadata": {
        "id": "YfmiJFasajRb"
      },
      "source": [
        "Note Year.1 column is redundant"
      ]
    },
    {
      "cell_type": "markdown",
      "metadata": {
        "id": "BiUSueqPajRb"
      },
      "source": [
        "### Dropping rows and columns"
      ]
    },
    {
      "cell_type": "code",
      "metadata": {
        "id": "-V-yr8B8ajRb"
      },
      "source": [
        "giss_temp.columns"
      ],
      "execution_count": null,
      "outputs": []
    },
    {
      "cell_type": "code",
      "metadata": {
        "id": "l2eyIHSDajRb"
      },
      "source": [
        "# Let's drop it:\n",
        "giss_temp = giss_temp.drop(\"Year.1\", axis=1) # axis=1 is the data axis\n",
        "giss_temp"
      ],
      "execution_count": null,
      "outputs": []
    },
    {
      "cell_type": "code",
      "metadata": {
        "id": "YEFG1cX3ajRb"
      },
      "source": [
        "# We can also just select the columns we want to keep \n",
        "# (another way to drop columns)\n",
        "giss_temp = giss_temp[[u'Jan', u'Feb', u'Mar', u'Apr', \n",
        "                       u'May', u'Jun', u'Jul', u'Aug', \n",
        "                       u'Sep', u'Oct', u'Nov', u'Dec']]\n",
        "# Note how we passed a List of column names\n",
        "\n",
        "giss_temp"
      ],
      "execution_count": null,
      "outputs": []
    },
    {
      "cell_type": "code",
      "metadata": {
        "id": "HZ7VCcB9ajRb"
      },
      "source": [
        "# Let's remove the last row (Year  Jan ...).\n",
        "giss_temp = giss_temp.drop(\"Year\")  # by  default drop() works on index axis (axis=0)\n",
        "giss_temp"
      ],
      "execution_count": null,
      "outputs": []
    },
    {
      "cell_type": "markdown",
      "metadata": {
        "id": "jKLuTkaQajRb"
      },
      "source": [
        "Let's also set `****` to a real missing value (`np.nan`). We can often do it using a boolean mask, but that may trigger pandas warning. Another way to assign based on a boolean condition is to use the `where` method:"
      ]
    },
    {
      "cell_type": "code",
      "metadata": {
        "id": "6idRJffdajRb"
      },
      "source": [
        "#giss_temp[giss_temp == \"****\"] = np.nan # WARNING due to memory layout\n",
        "\n",
        "# use .where: replace the entries which do not satistfy the condition\n",
        "giss_temp = giss_temp.where(giss_temp != \"****\", other=np.nan)"
      ],
      "execution_count": null,
      "outputs": []
    },
    {
      "cell_type": "code",
      "metadata": {
        "id": "FKHjM3i4ajRb"
      },
      "source": [
        "giss_temp.tail()"
      ],
      "execution_count": null,
      "outputs": []
    },
    {
      "cell_type": "markdown",
      "metadata": {
        "id": "9LQQalCwajRb"
      },
      "source": [
        "Because of the labels (strings) found in the middle of the timeseries, every column only assumed to contain strings (didn't convert them to floating point values):"
      ]
    },
    {
      "cell_type": "code",
      "metadata": {
        "id": "LrmpqtOXajRb"
      },
      "source": [
        "giss_temp.dtypes"
      ],
      "execution_count": null,
      "outputs": []
    },
    {
      "cell_type": "markdown",
      "metadata": {
        "id": "5tzetfxvajRc"
      },
      "source": [
        "That can be changed after the fact (and after the cleanup) with the `astype` method of a `Series`:"
      ]
    },
    {
      "cell_type": "code",
      "metadata": {
        "id": "as7LgYopajRc"
      },
      "source": [
        "giss_temp[\"Jan\"].astype(\"float32\")"
      ],
      "execution_count": null,
      "outputs": []
    },
    {
      "cell_type": "code",
      "metadata": {
        "id": "UCmE2SzzajRc"
      },
      "source": [
        "# Loop over all columns that had 'Object' type and make them 'float32'\n",
        "for col in giss_temp.columns:\n",
        "    giss_temp[col] = giss_temp[col].astype(np.float32)"
      ],
      "execution_count": null,
      "outputs": []
    },
    {
      "cell_type": "markdown",
      "metadata": {
        "id": "xXnrKQY9ajRc"
      },
      "source": [
        "An index has a `dtype` just like any Series and that can be changed after the fact too."
      ]
    },
    {
      "cell_type": "code",
      "metadata": {
        "id": "ecqgH9EnajRc"
      },
      "source": [
        "giss_temp.index.dtype"
      ],
      "execution_count": null,
      "outputs": []
    },
    {
      "cell_type": "markdown",
      "metadata": {
        "id": "W9bBR1V-ajRc"
      },
      "source": [
        "For now, let's change it to an integer so that values can at least be compared properly."
      ]
    },
    {
      "cell_type": "code",
      "metadata": {
        "id": "4NTSTOwIajRc"
      },
      "source": [
        "giss_temp.index = giss_temp.index.astype(np.int32)"
      ],
      "execution_count": null,
      "outputs": []
    },
    {
      "cell_type": "markdown",
      "metadata": {
        "id": "Tgwfh8eAajRc"
      },
      "source": [
        "### Removing missing values"
      ]
    },
    {
      "cell_type": "code",
      "metadata": {
        "id": "cxeSZdwxajRc"
      },
      "source": [
        "# This will remove any year that has a missing value. \n",
        "# Use how='all' to keep partial years\n",
        "giss_temp.dropna(how=\"all\").tail()"
      ],
      "execution_count": null,
      "outputs": []
    },
    {
      "cell_type": "code",
      "metadata": {
        "id": "wlZzIeorajRc"
      },
      "source": [
        "# Replace (fill) NaN with 0 (or some other value, like -999)\n",
        "giss_temp.fillna(value=0).tail()"
      ],
      "execution_count": null,
      "outputs": []
    },
    {
      "cell_type": "code",
      "metadata": {
        "id": "aILYWNEjajRc"
      },
      "source": [
        "# ffill = forward fill: This fills them with the previous year.\n",
        "giss_temp.fillna(method=\"ffill\").tail()"
      ],
      "execution_count": null,
      "outputs": []
    },
    {
      "cell_type": "markdown",
      "metadata": {
        "id": "1VnmnIVMajRc"
      },
      "source": [
        "There is also a `.interpolate` method that works on a `Series`:"
      ]
    },
    {
      "cell_type": "code",
      "metadata": {
        "id": "93cM549PajRc"
      },
      "source": [
        "giss_temp.Aug.interpolate().tail()"
      ],
      "execution_count": null,
      "outputs": []
    },
    {
      "cell_type": "markdown",
      "metadata": {
        "id": "4vyzcsgbajRc"
      },
      "source": [
        "For now, we will leave the missing values in all our datasets, because it wouldn't be meaningful to fill them."
      ]
    },
    {
      "cell_type": "markdown",
      "metadata": {
        "id": "HTS5PWRKajRc"
      },
      "source": [
        "### Visualization"
      ]
    },
    {
      "cell_type": "code",
      "metadata": {
        "id": "Hcr9dt30ajRc"
      },
      "source": [
        "giss_temp.Jan.plot(figsize=LARGE_FIGSIZE);"
      ],
      "execution_count": null,
      "outputs": []
    },
    {
      "cell_type": "code",
      "metadata": {
        "id": "ehzNKTAPajRc"
      },
      "source": [
        "# A boxplot\n",
        "giss_temp.boxplot();"
      ],
      "execution_count": null,
      "outputs": []
    },
    {
      "cell_type": "markdown",
      "metadata": {
        "id": "Y7OPLthYajRd"
      },
      "source": [
        "## <font color=\"red\">Storing our Work</font>"
      ]
    },
    {
      "cell_type": "markdown",
      "metadata": {
        "id": "R6arVy9wajRd"
      },
      "source": [
        "For each `read_**` function to load data, there is a `to_**` method attached to Series and DataFrames."
      ]
    },
    {
      "cell_type": "markdown",
      "metadata": {
        "id": "cmnVvjTTajRd"
      },
      "source": [
        "Another file format that is commonly used is Excel.\n",
        "\n",
        "Multiple datasets can be stored in 1 file."
      ]
    },
    {
      "cell_type": "code",
      "metadata": {
        "id": "tR9auLu7ajRd"
      },
      "source": [
        "writer = pd.ExcelWriter(\"test.xls\")"
      ],
      "execution_count": null,
      "outputs": []
    },
    {
      "cell_type": "code",
      "metadata": {
        "id": "1lblXQrxajRd"
      },
      "source": [
        "giss_temp.to_excel(writer, sheet_name=\"GISS temp data\")\n",
        "tsurf.to_excel(writer, sheet_name=\"NASA sst anom data\")"
      ],
      "execution_count": null,
      "outputs": []
    },
    {
      "cell_type": "code",
      "metadata": {
        "id": "nhmPLjsaajRd"
      },
      "source": [
        "writer.close()"
      ],
      "execution_count": null,
      "outputs": []
    },
    {
      "cell_type": "markdown",
      "metadata": {
        "id": "EyDQs1YqajRd"
      },
      "source": [
        "Another, more powerful file format to store binary data, which allows us to store both `Series` and `DataFrame`s without having to cast anybody is HDF5."
      ]
    },
    {
      "cell_type": "code",
      "metadata": {
        "id": "5emzeArKajRd"
      },
      "source": [
        "with pd.HDFStore(\"all_data.h5\") as writer:\n",
        "    giss_temp.to_hdf(writer, \"/temperatures/giss\")\n",
        "    tsurf.to_hdf(writer, \"/temperatures/anomalies\")\n",
        "    mean_sea_level.to_hdf(writer, \"/sea_level/mean_sea_level\")\n",
        "    local_sea_level_stations.to_hdf(writer, \"/sea_level/stations\")"
      ],
      "execution_count": null,
      "outputs": []
    },
    {
      "cell_type": "code",
      "metadata": {
        "id": "niXdCYGmajRd"
      },
      "source": [
        "%ls"
      ],
      "execution_count": null,
      "outputs": []
    }
  ]
}