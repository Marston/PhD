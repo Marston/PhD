{
  "nbformat": 4,
  "nbformat_minor": 0,
  "metadata": {
    "kernelspec": {
      "display_name": "Python 3",
      "language": "python",
      "name": "python3"
    },
    "language_info": {
      "codemirror_mode": {
        "name": "ipython",
        "version": 3
      },
      "file_extension": ".py",
      "mimetype": "text/x-python",
      "name": "python",
      "nbconvert_exporter": "python",
      "pygments_lexer": "ipython3",
      "version": "3.7.3"
    },
    "colab": {
      "name": "introduction_list_comprehensions.ipynb",
      "provenance": []
    }
  },
  "cells": [
    {
      "cell_type": "markdown",
      "metadata": {
        "id": "N07CxUIFb7K5"
      },
      "source": [
        "<font color=\"white\">.</font> | <font color=\"white\">.</font> | <font color=\"white\">.</font>\n",
        "-- | -- | --\n",
        "![NASA](http://www.nasa.gov/sites/all/themes/custom/nasatwo/images/nasa-logo.svg) | <h1><font size=\"+3\">ASTG Python Courses</font></h1> | ![NASA](https://www.nccs.nasa.gov/sites/default/files/NCCS_Logo_0.png)\n",
        " \n",
        "---\n",
        "\n",
        "<CENTER>\n",
        "<H1 style=\"color:red\">\n",
        "List Comprehension and More\n",
        "</H1>\n",
        "</CENTER>"
      ]
    },
    {
      "cell_type": "markdown",
      "metadata": {
        "id": "-xO0KyiIb7K7"
      },
      "source": [
        "## <font color='red'>What will be Covered?</font>"
      ]
    },
    {
      "cell_type": "markdown",
      "metadata": {
        "id": "wojBQCuNb7K8"
      },
      "source": [
        "- List Comprehension\n",
        "- Lambda Function\n",
        "- Map Function\n",
        "- Filter Function\n",
        "- Reduce Function"
      ]
    },
    {
      "cell_type": "markdown",
      "metadata": {
        "id": "0_6_R6Mjb7K8"
      },
      "source": [
        "## <font color='red'>Reference Documents</font>\n",
        "\n",
        "- <a href=\"https://hackernoon.com/list-comprehension-in-python-c762ba1f523f\">List Comprehension in Python</a>\n",
        "- <a href=\"https://www.python-course.eu/python3_list_comprehension.php\">List Comprehension</a>\n",
        "- <a href=\"https://www.digitalocean.com/community/tutorials/understanding-list-comprehensions-in-python-3\">Understanding List Comprehensions in Python 3</a>\n",
        "- <a href=\"https://stackabuse.com/lambda-functions-in-python/\">Lambda Functions in Python</a>"
      ]
    },
    {
      "cell_type": "markdown",
      "metadata": {
        "id": "iKqX5H6hb7K8"
      },
      "source": [
        "## <font color='red'>List Comprehension</font>\n",
        "- Provides a concise way to create lists.\n",
        "- Consists of brackets containing an expression followed by a for clause, then zero or more for or if clauses. \n",
        "- The expressions can be anything, meaning you can put in all kinds of objects in lists\n",
        "- The result will be a new list resulting from evaluating the expression in the context of the `for` and `if` clauses which follow it. \n",
        "- Aways returns a result list. "
      ]
    },
    {
      "cell_type": "markdown",
      "metadata": {
        "id": "TNoCDxLdb7K9"
      },
      "source": [
        "#### If you used to do it like this:"
      ]
    },
    {
      "cell_type": "markdown",
      "metadata": {
        "id": "D9wTPGpPb7K9"
      },
      "source": [
        "```python\n",
        "new_list = []\n",
        "for i in old_list:\n",
        "    if filter(i):\n",
        "       new_list.append(expressions(i))\n",
        "```\n",
        "\n",
        "You can obtain the same thing using list comprehension:\n",
        "\n",
        "```python\n",
        "new_list = [expression(i) for i in old_list if filter(i)]\n",
        "```"
      ]
    },
    {
      "cell_type": "markdown",
      "metadata": {
        "id": "SfCS8btYb7K-"
      },
      "source": [
        "#### Syntax\n",
        "\n",
        "The list comprehension starts with a `[` and `]`, to help you remember that the\n",
        "result is going to be a list.\n",
        "\n",
        "The basic syntax is:\n",
        "\n",
        "```python\n",
        "[ expression for item in list if conditional ]\n",
        "```\n",
        "\n",
        "This is equivalent to:\n",
        "\n",
        "```python\n",
        "for item in list:\n",
        "    if conditional:\n",
        "        expression\n",
        "```\n",
        "\n",
        "Here is what it does:\n",
        "\n",
        "```python\n",
        "new_list = [expression(i) for i in old_list if filter(i)]\n",
        "```\n"
      ]
    },
    {
      "cell_type": "markdown",
      "metadata": {
        "id": "d5sh1W2Kb7K-"
      },
      "source": [
        "### Examples\n",
        "\n",
        "<font color=\"blue\">**Example 1:**</font>"
      ]
    },
    {
      "cell_type": "code",
      "metadata": {
        "id": "CO2-D_fAb7K-"
      },
      "source": [
        "x = [i for i in range(10)]\n",
        "print(x)"
      ],
      "execution_count": null,
      "outputs": []
    },
    {
      "cell_type": "markdown",
      "metadata": {
        "id": "ELwLcULeb7K_"
      },
      "source": [
        "<font color=\"blue\">**Example 2:**</font>\n",
        "\n",
        "Consider the loop:"
      ]
    },
    {
      "cell_type": "code",
      "metadata": {
        "id": "tJpoKWvZb7K_"
      },
      "source": [
        "squares = []\n",
        "for x in range(10):\n",
        "    squares.append(x**2)\n",
        "print(squares)"
      ],
      "execution_count": null,
      "outputs": []
    },
    {
      "cell_type": "markdown",
      "metadata": {
        "id": "E-bl9gF7b7K_"
      },
      "source": [
        "Or you can use list comprehensions to get the same result:"
      ]
    },
    {
      "cell_type": "code",
      "metadata": {
        "id": "43JJPdhUb7LA"
      },
      "source": [
        "squares = [x**2 for x in range(10)]\n",
        "print(squares)"
      ],
      "execution_count": null,
      "outputs": []
    },
    {
      "cell_type": "markdown",
      "metadata": {
        "id": "LDX_SYBmb7LA"
      },
      "source": [
        "<font color=\"blue\">**Example 3:**</font>"
      ]
    },
    {
      "cell_type": "code",
      "metadata": {
        "id": "meA9S9ctb7LA"
      },
      "source": [
        "string = \"Hello 12345 World\"\n",
        "numbers = [x for x in string if x.isdigit()]\n",
        "print(numbers)"
      ],
      "execution_count": null,
      "outputs": []
    },
    {
      "cell_type": "markdown",
      "metadata": {
        "id": "Djrq281tb7LA"
      },
      "source": [
        "<font color=\"blue\">**Example 4:**</font>\n",
        "\n",
        "Create a function and name it double:"
      ]
    },
    {
      "cell_type": "code",
      "metadata": {
        "id": "1SSwrqC1b7LB"
      },
      "source": [
        "def double(x):\n",
        "    return x*2"
      ],
      "execution_count": null,
      "outputs": []
    },
    {
      "cell_type": "markdown",
      "metadata": {
        "id": "yKrJOqcQb7LB"
      },
      "source": [
        "If you now just print that function with a value in it, it should look like this:"
      ]
    },
    {
      "cell_type": "code",
      "metadata": {
        "id": "VKh5EGLBb7LB"
      },
      "source": [
        "print(double(10))"
      ],
      "execution_count": null,
      "outputs": []
    },
    {
      "cell_type": "code",
      "metadata": {
        "id": "uvr1Kw2Rb7LC"
      },
      "source": [
        "A = [double(x) for x in range(10)]\n",
        "print(A)"
      ],
      "execution_count": null,
      "outputs": []
    },
    {
      "cell_type": "markdown",
      "metadata": {
        "id": "H7WjVe7gb7LC"
      },
      "source": [
        "You can put in conditions:"
      ]
    },
    {
      "cell_type": "code",
      "metadata": {
        "id": "UQmutZmUb7LC"
      },
      "source": [
        "B = [double(x) for x in range(10) if x%2==0]\n",
        "print(B)"
      ],
      "execution_count": null,
      "outputs": []
    },
    {
      "cell_type": "markdown",
      "metadata": {
        "id": "tHn9FCyrb7LC"
      },
      "source": [
        "<font color=\"blue\">**Example 5:**</font>\n",
        "\n",
        "You can add more arguments:"
      ]
    },
    {
      "cell_type": "code",
      "metadata": {
        "id": "H3AK28dob7LC"
      },
      "source": [
        "C = [x+y for x in [10,30,50] for y in [20,40,60]]\n",
        "print(C)"
      ],
      "execution_count": null,
      "outputs": []
    },
    {
      "cell_type": "markdown",
      "metadata": {
        "id": "H8s0yQU0b7LD"
      },
      "source": [
        "<font color=\"blue\">**Example 6:**</font>\n",
        "\n",
        "List comprehensions can contain complex expressions and nested functions:"
      ]
    },
    {
      "cell_type": "code",
      "metadata": {
        "id": "4zmFAXuab7LD"
      },
      "source": [
        "from math import pi\n",
        "D = [str(round(pi, i)) for i in range(1, 6)]\n",
        "print(D)"
      ],
      "execution_count": null,
      "outputs": []
    },
    {
      "cell_type": "markdown",
      "metadata": {
        "id": "UoeE8nidb7LD"
      },
      "source": [
        "<font color=\"blue\">**Example 7:**</font> **Calculation of the prime numbers** between 1 and 100 using the sieve of Eratosthenes:"
      ]
    },
    {
      "cell_type": "code",
      "metadata": {
        "id": "cUGXM9Evb7LD"
      },
      "source": [
        "n = 100"
      ],
      "execution_count": null,
      "outputs": []
    },
    {
      "cell_type": "markdown",
      "metadata": {
        "id": "zMJDpQnGb7LD"
      },
      "source": [
        "Without List Comprehension:"
      ]
    },
    {
      "cell_type": "code",
      "metadata": {
        "id": "B1GL2wW8b7LE"
      },
      "source": [
        "noprimes = [] \n",
        "for i in range(2, 8): \n",
        "    for j in range(i*2, n, i): \n",
        "        noprimes.append(j) \n",
        "\n",
        "primes = [] \n",
        "for x in range(2, n): \n",
        "    if x not in noprimes: \n",
        "        primes.append(x)"
      ],
      "execution_count": null,
      "outputs": []
    },
    {
      "cell_type": "markdown",
      "metadata": {
        "id": "8sc7dfKPb7LE"
      },
      "source": [
        "With List Comprehension:"
      ]
    },
    {
      "cell_type": "code",
      "metadata": {
        "id": "3DCg3fEYb7LE"
      },
      "source": [
        "noprimes = [j for i in range(2, 8) for j in range(i*2, n, i)]\n",
        "primes = [x for x in range(2, n) if x not in noprimes]\n",
        "print(primes)"
      ],
      "execution_count": null,
      "outputs": []
    },
    {
      "cell_type": "markdown",
      "metadata": {
        "id": "qjHGgthSb7LE"
      },
      "source": [
        "<font color=\"blue\">**Example 8:**</font> **Determine the number of negative numbers in a list**"
      ]
    },
    {
      "cell_type": "markdown",
      "metadata": {
        "id": "HMuZbKP_b7LE"
      },
      "source": [
        "Without list comprehension:"
      ]
    },
    {
      "cell_type": "code",
      "metadata": {
        "id": "IPzY3m8db7LE"
      },
      "source": [
        "def count_negatives_reg(my_list):\n",
        "    \"\"\"\n",
        "       Compute the number of negative numbers in the given list.\n",
        "    \"\"\"\n",
        "    neg_num = 0\n",
        "    for num in my_list:\n",
        "        if num < 0:\n",
        "            neg_num += 1\n",
        "    return neg_num"
      ],
      "execution_count": null,
      "outputs": []
    },
    {
      "cell_type": "markdown",
      "metadata": {
        "id": "dd2L-PbIb7LF"
      },
      "source": [
        "With list comprehension:"
      ]
    },
    {
      "cell_type": "code",
      "metadata": {
        "id": "ZokbV5j8b7LF"
      },
      "source": [
        "def count_negatives_lc(my_list):\n",
        "    return len([num for num in my_list if num < 0])"
      ],
      "execution_count": null,
      "outputs": []
    },
    {
      "cell_type": "markdown",
      "metadata": {
        "id": "PtgRA1isb7LF"
      },
      "source": [
        "<font color=\"blue\">**Example 9:**</font> **Multiple Conditions**"
      ]
    },
    {
      "cell_type": "code",
      "metadata": {
        "id": "7tzLE_Iib7LF"
      },
      "source": [
        "N = 200\n",
        "\n",
        "reg_list = []\n",
        "for num in range(1, N):\n",
        "    if num % 2 == 0 and num % 5 == 0:\n",
        "       reg_list.append(num)\n",
        " \n",
        "print(reg_list)"
      ],
      "execution_count": null,
      "outputs": []
    },
    {
      "cell_type": "code",
      "metadata": {
        "id": "IozqimlGb7LF"
      },
      "source": [
        "lc_list = [num for num in range(1, N) if num % 2 == 0 if num % 5 == 0]\n",
        "print(lc_list)"
      ],
      "execution_count": null,
      "outputs": []
    },
    {
      "cell_type": "markdown",
      "metadata": {
        "id": "L9UKXQGFb7LG"
      },
      "source": [
        "<font color=\"blue\">**Example 10:**</font> **If Else**"
      ]
    },
    {
      "cell_type": "code",
      "metadata": {
        "id": "_k3suThUb7LG"
      },
      "source": [
        "numbers = [-6, 7, 13, -1005, 6, 24, 35, -111, 237, 9]\n",
        "print(numbers)\n",
        " \n",
        "my_list = [\"Even\" if num % 2 == 0 else \"Odd\" for num in numbers]\n",
        " \n",
        "print(my_list)"
      ],
      "execution_count": null,
      "outputs": []
    },
    {
      "cell_type": "markdown",
      "metadata": {
        "id": "lMhQPNBrb7LG"
      },
      "source": [
        "<font color=\"blue\">**Example 11:**</font> **Nested For Loops**"
      ]
    },
    {
      "cell_type": "code",
      "metadata": {
        "id": "y0pP-nbyb7LG"
      },
      "source": [
        "my_list = [[i * j for j in range(1, 11)] for i in range(2, 4)]\n",
        " \n",
        "print(my_list)"
      ],
      "execution_count": null,
      "outputs": []
    },
    {
      "cell_type": "markdown",
      "metadata": {
        "id": "H8DBI9Zpb7LG"
      },
      "source": [
        "### <u>Breakout 1</u>\n",
        "We want to simulate a series of coin tosses where 0 is heads and 1 is tails."
      ]
    },
    {
      "cell_type": "code",
      "metadata": {
        "id": "nsOHcLX3b7LG"
      },
      "source": [
        "from random import random\n",
        "n = 10\n",
        "results = [] \n",
        "for x in range(n): \n",
        "    results.append(int(round(random())))"
      ],
      "execution_count": null,
      "outputs": []
    },
    {
      "cell_type": "markdown",
      "metadata": {
        "id": "GsMOnc0ob7LG"
      },
      "source": [
        "Use a list comprehension to make it more concise."
      ]
    },
    {
      "cell_type": "markdown",
      "metadata": {
        "id": "-c2D_H_Hb7LH"
      },
      "source": [
        "### <u>Breakout 2</u>"
      ]
    },
    {
      "cell_type": "markdown",
      "metadata": {
        "id": "KPI6IUgyb7LH"
      },
      "source": [
        "Use list comprehension to remove all the vowels from the sentence"
      ]
    },
    {
      "cell_type": "code",
      "metadata": {
        "id": "HrnF3MVVb7LH"
      },
      "source": [
        "sentence = \"The GSFC Python Bootcamp is a great opportunity to learn Python programming.\"\n",
        "vowels = 'aeiou' "
      ],
      "execution_count": null,
      "outputs": []
    },
    {
      "cell_type": "markdown",
      "metadata": {
        "id": "ymrGWD0ib7LH"
      },
      "source": [
        "## <font color='red'>Lambda, Filter, Reduce and Map</font>"
      ]
    },
    {
      "cell_type": "markdown",
      "metadata": {
        "id": "eR0dx07Gb7LH"
      },
      "source": [
        "- The `lambda` operator or `lambda` function is a way to create small anonymous functions.\n",
        "- These functions are throw-away functions, i.e. they are just needed where they have been created.\n",
        "-  Lambda functions are mainly used in combination with the functions `filter()`, `map()` and `reduce()`.\n",
        "    \n",
        "![fig_func](http://www.globalnerdy.com/wp-content/uploads/2016/06/map-filter-reduce-in-emoji-1.png)\n",
        "Image Source: www.globalnerdy.com"
      ]
    },
    {
      "cell_type": "markdown",
      "metadata": {
        "id": "u1npMH_lb7LI"
      },
      "source": [
        "### <font color=\"blue\">Lambda Function</font>\n",
        "\n",
        "A `lambda` function is a small anonymous function which returns an object.\n",
        "\n",
        "![fig_lambda](https://www.educative.io/api/edpresso/shot/6565495459282944/image/6707306488135680)\n",
        "Image Source: www.educative.io\n",
        "\n",
        "\n",
        "- The argument list consists of a comma separated list of arguments. \n",
        "- The expression is an arithmetic expression using these arguments.\n",
        "- Python’s `lambda` expressions allow a function to be created and passed around (often into another function) all in one line of code."
      ]
    },
    {
      "cell_type": "markdown",
      "metadata": {
        "id": "gKV0QOdJb7LI"
      },
      "source": [
        "**Examples** "
      ]
    },
    {
      "cell_type": "code",
      "metadata": {
        "id": "x53rYDe-b7LI"
      },
      "source": [
        "add = lambda x, y : x + y\n",
        "add(2,1)"
      ],
      "execution_count": null,
      "outputs": []
    },
    {
      "cell_type": "code",
      "metadata": {
        "id": "Sss8_as-b7LI"
      },
      "source": [
        "remainder = lambda num: num % 2\n",
        "\n",
        "print(remainder(5))\n",
        "print(remainder(42))"
      ],
      "execution_count": null,
      "outputs": []
    },
    {
      "cell_type": "code",
      "metadata": {
        "id": "34PXkJPdb7LI"
      },
      "source": [
        "line1 = \"A cat, a dog  \"\n",
        "line2 = \"  a bird, a mountain\"\n",
        "\n",
        "# Use X as an alias for two methods.\n",
        "x = lambda s: s.strip().upper()\n",
        "\n",
        "# Call the lambda to shorten the program's source.\n",
        "line1b = x(line1)\n",
        "line2b = x(line2)\n",
        "\n",
        "print(line1b)\n",
        "print(line2b)"
      ],
      "execution_count": null,
      "outputs": []
    },
    {
      "cell_type": "markdown",
      "metadata": {
        "id": "mCgts0zPb7LI"
      },
      "source": [
        "**Why Use Lambda Functions?**\n",
        "\n",
        "- Lambda functions are used when you need a function for a short period of time. \n",
        "- This is commonly used when you want to pass a function as an argument to higher-order functions, that is, functions that take other functions as their arguments.\n",
        "\n",
        "Consider the example below:"
      ]
    },
    {
      "cell_type": "code",
      "metadata": {
        "id": "gcCOVr95b7LI"
      },
      "source": [
        "def testfunc(num):\n",
        "    return lambda x : x * num\n",
        "\n",
        "result1 = testfunc(10)\n",
        "result2 = testfunc(1000)\n",
        "\n",
        "print(result1(9))\n",
        "print(result2(9))"
      ],
      "execution_count": null,
      "outputs": []
    },
    {
      "cell_type": "markdown",
      "metadata": {
        "id": "GX4HsLXpb7LJ"
      },
      "source": [
        "### <font color=\"blue\">Map Function</font>"
      ]
    },
    {
      "cell_type": "markdown",
      "metadata": {
        "id": "FhyQXHw8b7LJ"
      },
      "source": [
        "`map()` is a function with two arguments: \n",
        "\n",
        "```python\n",
        "   r = map(func, seq)\n",
        "```\n",
        "\n",
        "- The first argument `func` is the name of a function and the second a sequence (e.g. a list) `seq`.\n",
        "- `map()` applies the function `func` to all the elements of the sequence `seq`. \n",
        "- The returned value from `map()` (map object) can be passed to functions like `list()` (to create a list), `set()` (to create a set) and so on.\n",
        "\n",
        "![fig_map](https://cdn-images-1.medium.com/max/800/1*j_2bcKaEWfsm-UFFTpuHVg.png)\n",
        "Image Source: dzone.com"
      ]
    },
    {
      "cell_type": "code",
      "metadata": {
        "id": "NSi0BCd3b7LJ"
      },
      "source": [
        "def convert_from_celcius_to_fahrenheit(T):\n",
        "    return ((float(9)/5)*T + 32)\n",
        "\n",
        "def convert_from_fahrenheit_to_celsius(T):\n",
        "    return (float(5)/9)*(T-32)\n",
        "\n",
        "temperatures = (36.5, 37, 37.5, 39)\n",
        "\n",
        "fahr = list(map(convert_from_celcius_to_fahrenheit, temperatures))\n",
        "print(farh)\n",
        "\n",
        "cel = list(map(convert_from_fahrenheit_to_celsius, fahr))\n",
        "print(cel)"
      ],
      "execution_count": null,
      "outputs": []
    },
    {
      "cell_type": "markdown",
      "metadata": {
        "id": "hsPROdlFb7LJ"
      },
      "source": [
        "- `map()` can be applied to more than one list. \n",
        "- The lists have to have the same length."
      ]
    },
    {
      "cell_type": "code",
      "metadata": {
        "id": "NENwiWmEb7LJ"
      },
      "source": [
        "a = [1, 2, 3, 4]\n",
        "b = [17, 12, 11, 10]\n",
        "c = [-1, -4, 5, 9]\n",
        "\n",
        "print(\"a+b:   \", list(map(lambda x,y:x+y, a,b)))\n",
        "print(\"a+b+c: \", list(map(lambda x,y,z:x+y+z, a,b,c)))\n",
        "print(\"a+b-c: \", list(map(lambda x,y,z:x+y-z, a,b,c)))"
      ],
      "execution_count": null,
      "outputs": []
    },
    {
      "cell_type": "markdown",
      "metadata": {
        "id": "SJ1000qrb7LJ"
      },
      "source": [
        "### <u>Breakout 3</u>"
      ]
    },
    {
      "cell_type": "code",
      "metadata": {
        "id": "Bosg6bZzb7LK"
      },
      "source": [
        "words = 'The quick brown fox jumps over the lazy dog'.split()\n",
        "print(words)\n",
        "\n",
        "stuff = []\n",
        "for w in words:\n",
        "    stuff.append([w.upper(), w.lower(), len(w)])\n",
        "\n",
        "for i in stuff:\n",
        "    print(i)"
      ],
      "execution_count": null,
      "outputs": []
    },
    {
      "cell_type": "markdown",
      "metadata": {
        "id": "mUA3IXwfb7LK"
      },
      "source": [
        "Use list comprehension and lambda/map function to define stuff."
      ]
    },
    {
      "cell_type": "markdown",
      "metadata": {
        "id": "jiwJnUVDb7LK"
      },
      "source": [
        "### <font color=\"blue\">Filter Function</font>\n",
        "\n",
        "```python \n",
        "   filter(func, iterableType)\n",
        "``` \n",
        "\n",
        "- The function offers an elegant way to filter out all the elements of any iterable type (list, tuple, string, etc.), for which the function `func` returns True.\n",
        "\n",
        "![fig_filter](https://leblancfg.com/img/filter.png)\n",
        "Image Source: leblancfg.com"
      ]
    },
    {
      "cell_type": "code",
      "metadata": {
        "id": "IvXWvxdTb7LL"
      },
      "source": [
        "fib = [0, 1, 1, 2, 3, 5, 8, 13 , 21, 34, 55]\n",
        "\n",
        "odd_numbers = list(filter(lambda x: x % 2, fib))\n",
        "print(\"Odd Numbers:  \", odd_numbers)\n",
        "\n",
        "even_numbers = list(filter(lambda x: x % 2 == 0, fib))\n",
        "print(\"Even Numbers: \", even_numbers)"
      ],
      "execution_count": null,
      "outputs": []
    },
    {
      "cell_type": "markdown",
      "metadata": {
        "id": "iLmqK9rVb7LL"
      },
      "source": [
        "### <u>Breakout 4</u>"
      ]
    },
    {
      "cell_type": "markdown",
      "metadata": {
        "id": "uSj3ZXKdb7LL"
      },
      "source": [
        "Use the filter function to remove all the vowels from the sentence"
      ]
    },
    {
      "cell_type": "code",
      "metadata": {
        "id": "H3vDy6RCb7LL"
      },
      "source": [
        "sentence = \"The LRC Python Training is a great opportunity to learn Python programming.\"\n",
        "vowels = 'aeiou' "
      ],
      "execution_count": null,
      "outputs": []
    },
    {
      "cell_type": "markdown",
      "metadata": {
        "id": "YipqaNeub7LL"
      },
      "source": [
        "### <font color=\"blue\">Reduce Function</font>\n",
        "\n",
        "```python\n",
        "reduce(func, seq)\n",
        "```\n",
        "\n",
        "- The function continually applies the function `func()` to the sequence `seq`. \n",
        "- It returns a single value.\n",
        "\n",
        "\n",
        "#### Syntax\n",
        "\n",
        "```python\n",
        "def reduce(func, seq, initializer=None):\n",
        "    iterable = iter(seq) \n",
        "    if not initializer:\n",
        "       initializer = next(iterable)   \n",
        "    r = initializer\n",
        "    for s in iterable:\n",
        "        r = func(r, s)\n",
        "    return r\n",
        "```\n",
        "\n",
        "![fig_reduce](https://www.python-course.eu/images/reduce.png)\n",
        "Image Source: www.python-course.eu"
      ]
    },
    {
      "cell_type": "markdown",
      "metadata": {
        "id": "1IvP_y5jb7LL"
      },
      "source": [
        "#### Examples"
      ]
    },
    {
      "cell_type": "code",
      "metadata": {
        "id": "oZJMshudb7LL"
      },
      "source": [
        "import functools"
      ],
      "execution_count": null,
      "outputs": []
    },
    {
      "cell_type": "markdown",
      "metadata": {
        "id": "q3k6OSUDb7LM"
      },
      "source": [
        "Calculating the sum of the numbers from 1 to n: "
      ]
    },
    {
      "cell_type": "code",
      "metadata": {
        "id": "C6xOqBlOb7LM"
      },
      "source": [
        "n = 300\n",
        "C = functools.reduce(lambda x, y: x+y, range(1,n+1))\n",
        "print (C)"
      ],
      "execution_count": null,
      "outputs": []
    },
    {
      "cell_type": "markdown",
      "metadata": {
        "id": "R9_0MS2ib7LM"
      },
      "source": [
        "Determining the maximum of a list of numerical values by using reduce:"
      ]
    },
    {
      "cell_type": "code",
      "metadata": {
        "id": "idTepSwLb7LM"
      },
      "source": [
        "f = lambda a,b: a if (a > b) else b\n",
        "B = functools.reduce(f, [47,11,42,102,13])\n",
        "print (B)"
      ],
      "execution_count": null,
      "outputs": []
    },
    {
      "cell_type": "markdown",
      "metadata": {
        "id": "onOidPRkb7LM"
      },
      "source": [
        "Another example:"
      ]
    },
    {
      "cell_type": "code",
      "metadata": {
        "id": "ipXynGbMb7LM"
      },
      "source": [
        "def x100y(x, y):\n",
        "    return 100*x + y\n",
        "\n",
        "print(functools.reduce(x100y, [13]))\n",
        "print(functools.reduce(x100y, [2, 5, 9]))\n",
        "print(functools.reduce(x100y, [2, 5, 9], 7))"
      ],
      "execution_count": null,
      "outputs": []
    },
    {
      "cell_type": "markdown",
      "metadata": {
        "id": "ifT8HkL5b7LM"
      },
      "source": [
        "### <u>Breakout 5</u>\n",
        "\n",
        "Use the reduce function to find the product of all the entries in the list: \n",
        "[47, 11, 42, 102, 13]"
      ]
    },
    {
      "cell_type": "code",
      "metadata": {
        "id": "XFECRPzXb7LN"
      },
      "source": [
        ""
      ],
      "execution_count": null,
      "outputs": []
    }
  ]
}